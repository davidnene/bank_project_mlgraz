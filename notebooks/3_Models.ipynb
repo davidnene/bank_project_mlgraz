{
  "nbformat": 4,
  "nbformat_minor": 0,
  "metadata": {
    "colab": {
      "name": "Models",
      "provenance": [],
      "toc_visible": true
    },
    "kernelspec": {
      "name": "python3",
      "display_name": "Python 3"
    }
  },
  "cells": [
    {
      "cell_type": "code",
      "metadata": {
        "id": "MSdvctK3EgLS",
        "colab_type": "code",
        "colab": {}
      },
      "source": [
        "import pandas as pd\n",
        "from sklearn.impute import SimpleImputer\n",
        "import numpy as np\n",
        "from sklearn.ensemble import RandomForestClassifier\n",
        "from  sklearn.preprocessing import OrdinalEncoder\n",
        "from sklearn.tree import DecisionTreeClassifier\n",
        "from sklearn.model_selection import train_test_split\n",
        "from sklearn.model_selection import cross_validate\n",
        "from  sklearn.metrics import *\n",
        "import matplotlib.pyplot as plt\n",
        "from sklearn.preprocessing import StandardScaler\n",
        "from sklearn import tree\n",
        "from sklearn import model_selection\n",
        "import plotly.express as px\n",
        "import pickle"
      ],
      "execution_count": 0,
      "outputs": []
    },
    {
      "cell_type": "code",
      "metadata": {
        "id": "j_sLKHTVnDQG",
        "colab_type": "code",
        "colab": {
          "base_uri": "https://localhost:8080/",
          "height": 617
        },
        "outputId": "cea2065a-d150-4665-cc8b-5fd5bfd4152d"
      },
      "source": [
        "pip install rfpimp"
      ],
      "execution_count": 107,
      "outputs": [
        {
          "output_type": "stream",
          "text": [
            "Collecting rfpimp\n",
            "  Downloading https://files.pythonhosted.org/packages/36/05/ce8f1d3a035a4ddda3c888af945908e9f61cbec32f73148fc8e788a8632a/rfpimp-1.3.5.tar.gz\n",
            "Collecting stratx>=0.2\n",
            "\u001b[?25l  Downloading https://files.pythonhosted.org/packages/ba/b6/988b51f5d6467caca2c9a1024157490ac379adca49fbc3056491a0b1f954/stratx-0.3.tar.gz (148kB)\n",
            "\u001b[K     |████████████████████████████████| 153kB 3.9MB/s \n",
            "\u001b[?25hRequirement already satisfied: numpy in /usr/local/lib/python3.6/dist-packages (from rfpimp) (1.18.4)\n",
            "Requirement already satisfied: pandas in /usr/local/lib/python3.6/dist-packages (from rfpimp) (1.0.3)\n",
            "Requirement already satisfied: scikit-learn in /usr/local/lib/python3.6/dist-packages (from rfpimp) (0.22.2.post1)\n",
            "Requirement already satisfied: matplotlib in /usr/local/lib/python3.6/dist-packages (from rfpimp) (3.2.1)\n",
            "Requirement already satisfied: sklearn in /usr/local/lib/python3.6/dist-packages (from stratx>=0.2->rfpimp) (0.0)\n",
            "Requirement already satisfied: scipy in /usr/local/lib/python3.6/dist-packages (from stratx>=0.2->rfpimp) (1.4.1)\n",
            "Requirement already satisfied: numba in /usr/local/lib/python3.6/dist-packages (from stratx>=0.2->rfpimp) (0.48.0)\n",
            "Collecting colour\n",
            "  Downloading https://files.pythonhosted.org/packages/74/46/e81907704ab203206769dee1385dc77e1407576ff8f50a0681d0a6b541be/colour-0.1.5-py2.py3-none-any.whl\n",
            "Requirement already satisfied: pytz>=2017.2 in /usr/local/lib/python3.6/dist-packages (from pandas->rfpimp) (2018.9)\n",
            "Requirement already satisfied: python-dateutil>=2.6.1 in /usr/local/lib/python3.6/dist-packages (from pandas->rfpimp) (2.8.1)\n",
            "Requirement already satisfied: joblib>=0.11 in /usr/local/lib/python3.6/dist-packages (from scikit-learn->rfpimp) (0.15.1)\n",
            "Requirement already satisfied: kiwisolver>=1.0.1 in /usr/local/lib/python3.6/dist-packages (from matplotlib->rfpimp) (1.2.0)\n",
            "Requirement already satisfied: pyparsing!=2.0.4,!=2.1.2,!=2.1.6,>=2.0.1 in /usr/local/lib/python3.6/dist-packages (from matplotlib->rfpimp) (2.4.7)\n",
            "Requirement already satisfied: cycler>=0.10 in /usr/local/lib/python3.6/dist-packages (from matplotlib->rfpimp) (0.10.0)\n",
            "Requirement already satisfied: llvmlite<0.32.0,>=0.31.0dev0 in /usr/local/lib/python3.6/dist-packages (from numba->stratx>=0.2->rfpimp) (0.31.0)\n",
            "Requirement already satisfied: setuptools in /usr/local/lib/python3.6/dist-packages (from numba->stratx>=0.2->rfpimp) (46.3.0)\n",
            "Requirement already satisfied: six>=1.5 in /usr/local/lib/python3.6/dist-packages (from python-dateutil>=2.6.1->pandas->rfpimp) (1.12.0)\n",
            "Building wheels for collected packages: rfpimp, stratx\n",
            "  Building wheel for rfpimp (setup.py) ... \u001b[?25l\u001b[?25hdone\n",
            "  Created wheel for rfpimp: filename=rfpimp-1.3.5-cp36-none-any.whl size=10260 sha256=57dff6b75e9739de307d7436ba246b6887140a2d2ab245b3814004464c758d30\n",
            "  Stored in directory: /root/.cache/pip/wheels/2a/c8/bf/80f91224be00870f84a85aa1782cf6cd62c1289a173b66b8e9\n",
            "  Building wheel for stratx (setup.py) ... \u001b[?25l\u001b[?25hdone\n",
            "  Created wheel for stratx: filename=stratx-0.3-cp36-none-any.whl size=22699 sha256=0171e7962cb9a4ef91565b5ffe40fa8007380a78708821d2baeb77cc967173c6\n",
            "  Stored in directory: /root/.cache/pip/wheels/91/3b/c3/9dcafed446985efb9008de84b720ddf003ac963e6807e8ad15\n",
            "Successfully built rfpimp stratx\n",
            "Installing collected packages: colour, stratx, rfpimp\n",
            "Successfully installed colour-0.1.5 rfpimp-1.3.5 stratx-0.3\n"
          ],
          "name": "stdout"
        }
      ]
    },
    {
      "cell_type": "code",
      "metadata": {
        "id": "CSxMq5wnFfIJ",
        "colab_type": "code",
        "colab": {}
      },
      "source": [
        "df = pd.read_csv('/content/drive/My Drive/MLGraz project/cleanup.csv')"
      ],
      "execution_count": 0,
      "outputs": []
    },
    {
      "cell_type": "code",
      "metadata": {
        "id": "quv1FB_dGRsS",
        "colab_type": "code",
        "outputId": "7e671299-7b6e-433e-925a-714ba7591e5f",
        "colab": {
          "base_uri": "https://localhost:8080/",
          "height": 236
        }
      },
      "source": [
        "df.head()"
      ],
      "execution_count": 3,
      "outputs": [
        {
          "output_type": "execute_result",
          "data": {
            "text/html": [
              "<div>\n",
              "<style scoped>\n",
              "    .dataframe tbody tr th:only-of-type {\n",
              "        vertical-align: middle;\n",
              "    }\n",
              "\n",
              "    .dataframe tbody tr th {\n",
              "        vertical-align: top;\n",
              "    }\n",
              "\n",
              "    .dataframe thead th {\n",
              "        text-align: right;\n",
              "    }\n",
              "</style>\n",
              "<table border=\"1\" class=\"dataframe\">\n",
              "  <thead>\n",
              "    <tr style=\"text-align: right;\">\n",
              "      <th></th>\n",
              "      <th>Unnamed: 0</th>\n",
              "      <th>age</th>\n",
              "      <th>job</th>\n",
              "      <th>marital</th>\n",
              "      <th>education</th>\n",
              "      <th>default</th>\n",
              "      <th>housing</th>\n",
              "      <th>loan</th>\n",
              "      <th>contact</th>\n",
              "      <th>month</th>\n",
              "      <th>day_of_week</th>\n",
              "      <th>duration</th>\n",
              "      <th>campaign</th>\n",
              "      <th>pdays</th>\n",
              "      <th>previous</th>\n",
              "      <th>poutcome</th>\n",
              "      <th>emp.var.rate</th>\n",
              "      <th>euribor3m</th>\n",
              "      <th>nr.employed</th>\n",
              "      <th>y</th>\n",
              "    </tr>\n",
              "  </thead>\n",
              "  <tbody>\n",
              "    <tr>\n",
              "      <th>0</th>\n",
              "      <td>0</td>\n",
              "      <td>56</td>\n",
              "      <td>housemaid</td>\n",
              "      <td>married</td>\n",
              "      <td>basic.4y</td>\n",
              "      <td>no</td>\n",
              "      <td>no</td>\n",
              "      <td>no</td>\n",
              "      <td>telephone</td>\n",
              "      <td>may</td>\n",
              "      <td>mon</td>\n",
              "      <td>261</td>\n",
              "      <td>1</td>\n",
              "      <td>999</td>\n",
              "      <td>0</td>\n",
              "      <td>nonexistent</td>\n",
              "      <td>1.1</td>\n",
              "      <td>4.857</td>\n",
              "      <td>5191.0</td>\n",
              "      <td>no</td>\n",
              "    </tr>\n",
              "    <tr>\n",
              "      <th>1</th>\n",
              "      <td>1</td>\n",
              "      <td>57</td>\n",
              "      <td>services</td>\n",
              "      <td>married</td>\n",
              "      <td>high.school</td>\n",
              "      <td>unknown</td>\n",
              "      <td>no</td>\n",
              "      <td>no</td>\n",
              "      <td>telephone</td>\n",
              "      <td>may</td>\n",
              "      <td>mon</td>\n",
              "      <td>149</td>\n",
              "      <td>1</td>\n",
              "      <td>999</td>\n",
              "      <td>0</td>\n",
              "      <td>nonexistent</td>\n",
              "      <td>1.1</td>\n",
              "      <td>4.857</td>\n",
              "      <td>5191.0</td>\n",
              "      <td>no</td>\n",
              "    </tr>\n",
              "    <tr>\n",
              "      <th>2</th>\n",
              "      <td>2</td>\n",
              "      <td>37</td>\n",
              "      <td>services</td>\n",
              "      <td>married</td>\n",
              "      <td>high.school</td>\n",
              "      <td>no</td>\n",
              "      <td>yes</td>\n",
              "      <td>no</td>\n",
              "      <td>telephone</td>\n",
              "      <td>may</td>\n",
              "      <td>mon</td>\n",
              "      <td>226</td>\n",
              "      <td>1</td>\n",
              "      <td>999</td>\n",
              "      <td>0</td>\n",
              "      <td>nonexistent</td>\n",
              "      <td>1.1</td>\n",
              "      <td>4.857</td>\n",
              "      <td>5191.0</td>\n",
              "      <td>no</td>\n",
              "    </tr>\n",
              "    <tr>\n",
              "      <th>3</th>\n",
              "      <td>3</td>\n",
              "      <td>40</td>\n",
              "      <td>admin.</td>\n",
              "      <td>married</td>\n",
              "      <td>basic.6y</td>\n",
              "      <td>no</td>\n",
              "      <td>no</td>\n",
              "      <td>no</td>\n",
              "      <td>telephone</td>\n",
              "      <td>may</td>\n",
              "      <td>mon</td>\n",
              "      <td>151</td>\n",
              "      <td>1</td>\n",
              "      <td>999</td>\n",
              "      <td>0</td>\n",
              "      <td>nonexistent</td>\n",
              "      <td>1.1</td>\n",
              "      <td>4.857</td>\n",
              "      <td>5191.0</td>\n",
              "      <td>no</td>\n",
              "    </tr>\n",
              "    <tr>\n",
              "      <th>4</th>\n",
              "      <td>4</td>\n",
              "      <td>56</td>\n",
              "      <td>services</td>\n",
              "      <td>married</td>\n",
              "      <td>high.school</td>\n",
              "      <td>no</td>\n",
              "      <td>no</td>\n",
              "      <td>yes</td>\n",
              "      <td>telephone</td>\n",
              "      <td>may</td>\n",
              "      <td>mon</td>\n",
              "      <td>307</td>\n",
              "      <td>1</td>\n",
              "      <td>999</td>\n",
              "      <td>0</td>\n",
              "      <td>nonexistent</td>\n",
              "      <td>1.1</td>\n",
              "      <td>4.857</td>\n",
              "      <td>5191.0</td>\n",
              "      <td>no</td>\n",
              "    </tr>\n",
              "  </tbody>\n",
              "</table>\n",
              "</div>"
            ],
            "text/plain": [
              "   Unnamed: 0  age        job  ... euribor3m nr.employed   y\n",
              "0           0   56  housemaid  ...     4.857      5191.0  no\n",
              "1           1   57   services  ...     4.857      5191.0  no\n",
              "2           2   37   services  ...     4.857      5191.0  no\n",
              "3           3   40     admin.  ...     4.857      5191.0  no\n",
              "4           4   56   services  ...     4.857      5191.0  no\n",
              "\n",
              "[5 rows x 20 columns]"
            ]
          },
          "metadata": {
            "tags": []
          },
          "execution_count": 3
        }
      ]
    },
    {
      "cell_type": "markdown",
      "metadata": {
        "id": "S9_LyJPDWGJm",
        "colab_type": "text"
      },
      "source": [
        "**Drop unwanted data**"
      ]
    },
    {
      "cell_type": "code",
      "metadata": {
        "id": "9bHy9CfMVhhU",
        "colab_type": "code",
        "colab": {}
      },
      "source": [
        "df = df.drop(labels=['Unnamed: 0' , 'default'], axis=1)"
      ],
      "execution_count": 0,
      "outputs": []
    },
    {
      "cell_type": "markdown",
      "metadata": {
        "id": "xEsqv3twn3uw",
        "colab_type": "text"
      },
      "source": [
        "**Rename last column to Deposit**"
      ]
    },
    {
      "cell_type": "code",
      "metadata": {
        "id": "A_MAC7OYnqi9",
        "colab_type": "code",
        "colab": {}
      },
      "source": [
        "df.columns = list(df.columns.values[:-1]) + ['deposit']"
      ],
      "execution_count": 0,
      "outputs": []
    },
    {
      "cell_type": "markdown",
      "metadata": {
        "id": "6eHnSqd9pELL",
        "colab_type": "text"
      },
      "source": [
        "**Deposit- Has the client subscribed a term deposit? (binary:\"yes\",\"no\")**"
      ]
    },
    {
      "cell_type": "code",
      "metadata": {
        "id": "1k9csl71pL4Q",
        "colab_type": "code",
        "colab": {}
      },
      "source": [
        "df['deposit'] = df['deposit'].map({'yes':1 , 'no':0})"
      ],
      "execution_count": 0,
      "outputs": []
    },
    {
      "cell_type": "markdown",
      "metadata": {
        "id": "9_WJk95Oq_Od",
        "colab_type": "text"
      },
      "source": [
        "**Encoding categorical data**"
      ]
    },
    {
      "cell_type": "code",
      "metadata": {
        "id": "vk6KEoUnrE-z",
        "colab_type": "code",
        "colab": {}
      },
      "source": [
        "categorical_columns = [\"job\",\"marital\",\"education\",\"housing\",\"loan\",\"contact\",\"previous\",\"poutcome\"]"
      ],
      "execution_count": 0,
      "outputs": []
    },
    {
      "cell_type": "markdown",
      "metadata": {
        "id": "HpSEMA7-spJT",
        "colab_type": "text"
      },
      "source": [
        "**Set data type of Ordinal/Nominal variables to category**"
      ]
    },
    {
      "cell_type": "code",
      "metadata": {
        "id": "VxuG59gxs-yU",
        "colab_type": "code",
        "colab": {}
      },
      "source": [
        "for col in categorical_columns:\n",
        "  df[col] = df[col].astype('category')\n",
        "  "
      ],
      "execution_count": 0,
      "outputs": []
    },
    {
      "cell_type": "markdown",
      "metadata": {
        "id": "gbVMqd63wfNo",
        "colab_type": "text"
      },
      "source": [
        "**Create One Hot encoding for categorical features**"
      ]
    },
    {
      "cell_type": "code",
      "metadata": {
        "id": "rNX4CHEdxqMs",
        "colab_type": "code",
        "colab": {}
      },
      "source": [
        "df_dummy = pd.get_dummies(df[categorical_columns], drop_first=True)"
      ],
      "execution_count": 0,
      "outputs": []
    },
    {
      "cell_type": "code",
      "metadata": {
        "id": "pruhQG982ERJ",
        "colab_type": "code",
        "colab": {}
      },
      "source": [
        "df_numeric = df.drop(labels=(categorical_columns), axis=1)"
      ],
      "execution_count": 0,
      "outputs": []
    },
    {
      "cell_type": "code",
      "metadata": {
        "id": "xzmaZedU-tly",
        "colab_type": "code",
        "colab": {
          "base_uri": "https://localhost:8080/",
          "height": 236
        },
        "outputId": "44182554-0aa2-4b2c-ed2e-e547e2962c4a"
      },
      "source": [
        "merged = pd.concat([df_dummy, df_numeric], join='outer', axis=1)\n",
        "merged.head()"
      ],
      "execution_count": 11,
      "outputs": [
        {
          "output_type": "execute_result",
          "data": {
            "text/html": [
              "<div>\n",
              "<style scoped>\n",
              "    .dataframe tbody tr th:only-of-type {\n",
              "        vertical-align: middle;\n",
              "    }\n",
              "\n",
              "    .dataframe tbody tr th {\n",
              "        vertical-align: top;\n",
              "    }\n",
              "\n",
              "    .dataframe thead th {\n",
              "        text-align: right;\n",
              "    }\n",
              "</style>\n",
              "<table border=\"1\" class=\"dataframe\">\n",
              "  <thead>\n",
              "    <tr style=\"text-align: right;\">\n",
              "      <th></th>\n",
              "      <th>job_blue-collar</th>\n",
              "      <th>job_entrepreneur</th>\n",
              "      <th>job_housemaid</th>\n",
              "      <th>job_management</th>\n",
              "      <th>job_retired</th>\n",
              "      <th>job_self-employed</th>\n",
              "      <th>job_services</th>\n",
              "      <th>job_student</th>\n",
              "      <th>job_technician</th>\n",
              "      <th>job_unemployed</th>\n",
              "      <th>job_unknown</th>\n",
              "      <th>marital_married</th>\n",
              "      <th>marital_single</th>\n",
              "      <th>marital_unknown</th>\n",
              "      <th>education_basic.6y</th>\n",
              "      <th>education_basic.9y</th>\n",
              "      <th>education_high.school</th>\n",
              "      <th>education_illiterate</th>\n",
              "      <th>education_professional.course</th>\n",
              "      <th>education_university.degree</th>\n",
              "      <th>education_unknown</th>\n",
              "      <th>housing_unknown</th>\n",
              "      <th>housing_yes</th>\n",
              "      <th>loan_unknown</th>\n",
              "      <th>loan_yes</th>\n",
              "      <th>contact_telephone</th>\n",
              "      <th>previous_1</th>\n",
              "      <th>previous_2</th>\n",
              "      <th>previous_3</th>\n",
              "      <th>previous_4</th>\n",
              "      <th>previous_5</th>\n",
              "      <th>previous_6</th>\n",
              "      <th>previous_7</th>\n",
              "      <th>poutcome_nonexistent</th>\n",
              "      <th>poutcome_success</th>\n",
              "      <th>age</th>\n",
              "      <th>month</th>\n",
              "      <th>day_of_week</th>\n",
              "      <th>duration</th>\n",
              "      <th>campaign</th>\n",
              "      <th>pdays</th>\n",
              "      <th>emp.var.rate</th>\n",
              "      <th>euribor3m</th>\n",
              "      <th>nr.employed</th>\n",
              "      <th>deposit</th>\n",
              "    </tr>\n",
              "  </thead>\n",
              "  <tbody>\n",
              "    <tr>\n",
              "      <th>0</th>\n",
              "      <td>0</td>\n",
              "      <td>0</td>\n",
              "      <td>1</td>\n",
              "      <td>0</td>\n",
              "      <td>0</td>\n",
              "      <td>0</td>\n",
              "      <td>0</td>\n",
              "      <td>0</td>\n",
              "      <td>0</td>\n",
              "      <td>0</td>\n",
              "      <td>0</td>\n",
              "      <td>1</td>\n",
              "      <td>0</td>\n",
              "      <td>0</td>\n",
              "      <td>0</td>\n",
              "      <td>0</td>\n",
              "      <td>0</td>\n",
              "      <td>0</td>\n",
              "      <td>0</td>\n",
              "      <td>0</td>\n",
              "      <td>0</td>\n",
              "      <td>0</td>\n",
              "      <td>0</td>\n",
              "      <td>0</td>\n",
              "      <td>0</td>\n",
              "      <td>1</td>\n",
              "      <td>0</td>\n",
              "      <td>0</td>\n",
              "      <td>0</td>\n",
              "      <td>0</td>\n",
              "      <td>0</td>\n",
              "      <td>0</td>\n",
              "      <td>0</td>\n",
              "      <td>1</td>\n",
              "      <td>0</td>\n",
              "      <td>56</td>\n",
              "      <td>may</td>\n",
              "      <td>mon</td>\n",
              "      <td>261</td>\n",
              "      <td>1</td>\n",
              "      <td>999</td>\n",
              "      <td>1.1</td>\n",
              "      <td>4.857</td>\n",
              "      <td>5191.0</td>\n",
              "      <td>0</td>\n",
              "    </tr>\n",
              "    <tr>\n",
              "      <th>1</th>\n",
              "      <td>0</td>\n",
              "      <td>0</td>\n",
              "      <td>0</td>\n",
              "      <td>0</td>\n",
              "      <td>0</td>\n",
              "      <td>0</td>\n",
              "      <td>1</td>\n",
              "      <td>0</td>\n",
              "      <td>0</td>\n",
              "      <td>0</td>\n",
              "      <td>0</td>\n",
              "      <td>1</td>\n",
              "      <td>0</td>\n",
              "      <td>0</td>\n",
              "      <td>0</td>\n",
              "      <td>0</td>\n",
              "      <td>1</td>\n",
              "      <td>0</td>\n",
              "      <td>0</td>\n",
              "      <td>0</td>\n",
              "      <td>0</td>\n",
              "      <td>0</td>\n",
              "      <td>0</td>\n",
              "      <td>0</td>\n",
              "      <td>0</td>\n",
              "      <td>1</td>\n",
              "      <td>0</td>\n",
              "      <td>0</td>\n",
              "      <td>0</td>\n",
              "      <td>0</td>\n",
              "      <td>0</td>\n",
              "      <td>0</td>\n",
              "      <td>0</td>\n",
              "      <td>1</td>\n",
              "      <td>0</td>\n",
              "      <td>57</td>\n",
              "      <td>may</td>\n",
              "      <td>mon</td>\n",
              "      <td>149</td>\n",
              "      <td>1</td>\n",
              "      <td>999</td>\n",
              "      <td>1.1</td>\n",
              "      <td>4.857</td>\n",
              "      <td>5191.0</td>\n",
              "      <td>0</td>\n",
              "    </tr>\n",
              "    <tr>\n",
              "      <th>2</th>\n",
              "      <td>0</td>\n",
              "      <td>0</td>\n",
              "      <td>0</td>\n",
              "      <td>0</td>\n",
              "      <td>0</td>\n",
              "      <td>0</td>\n",
              "      <td>1</td>\n",
              "      <td>0</td>\n",
              "      <td>0</td>\n",
              "      <td>0</td>\n",
              "      <td>0</td>\n",
              "      <td>1</td>\n",
              "      <td>0</td>\n",
              "      <td>0</td>\n",
              "      <td>0</td>\n",
              "      <td>0</td>\n",
              "      <td>1</td>\n",
              "      <td>0</td>\n",
              "      <td>0</td>\n",
              "      <td>0</td>\n",
              "      <td>0</td>\n",
              "      <td>0</td>\n",
              "      <td>1</td>\n",
              "      <td>0</td>\n",
              "      <td>0</td>\n",
              "      <td>1</td>\n",
              "      <td>0</td>\n",
              "      <td>0</td>\n",
              "      <td>0</td>\n",
              "      <td>0</td>\n",
              "      <td>0</td>\n",
              "      <td>0</td>\n",
              "      <td>0</td>\n",
              "      <td>1</td>\n",
              "      <td>0</td>\n",
              "      <td>37</td>\n",
              "      <td>may</td>\n",
              "      <td>mon</td>\n",
              "      <td>226</td>\n",
              "      <td>1</td>\n",
              "      <td>999</td>\n",
              "      <td>1.1</td>\n",
              "      <td>4.857</td>\n",
              "      <td>5191.0</td>\n",
              "      <td>0</td>\n",
              "    </tr>\n",
              "    <tr>\n",
              "      <th>3</th>\n",
              "      <td>0</td>\n",
              "      <td>0</td>\n",
              "      <td>0</td>\n",
              "      <td>0</td>\n",
              "      <td>0</td>\n",
              "      <td>0</td>\n",
              "      <td>0</td>\n",
              "      <td>0</td>\n",
              "      <td>0</td>\n",
              "      <td>0</td>\n",
              "      <td>0</td>\n",
              "      <td>1</td>\n",
              "      <td>0</td>\n",
              "      <td>0</td>\n",
              "      <td>1</td>\n",
              "      <td>0</td>\n",
              "      <td>0</td>\n",
              "      <td>0</td>\n",
              "      <td>0</td>\n",
              "      <td>0</td>\n",
              "      <td>0</td>\n",
              "      <td>0</td>\n",
              "      <td>0</td>\n",
              "      <td>0</td>\n",
              "      <td>0</td>\n",
              "      <td>1</td>\n",
              "      <td>0</td>\n",
              "      <td>0</td>\n",
              "      <td>0</td>\n",
              "      <td>0</td>\n",
              "      <td>0</td>\n",
              "      <td>0</td>\n",
              "      <td>0</td>\n",
              "      <td>1</td>\n",
              "      <td>0</td>\n",
              "      <td>40</td>\n",
              "      <td>may</td>\n",
              "      <td>mon</td>\n",
              "      <td>151</td>\n",
              "      <td>1</td>\n",
              "      <td>999</td>\n",
              "      <td>1.1</td>\n",
              "      <td>4.857</td>\n",
              "      <td>5191.0</td>\n",
              "      <td>0</td>\n",
              "    </tr>\n",
              "    <tr>\n",
              "      <th>4</th>\n",
              "      <td>0</td>\n",
              "      <td>0</td>\n",
              "      <td>0</td>\n",
              "      <td>0</td>\n",
              "      <td>0</td>\n",
              "      <td>0</td>\n",
              "      <td>1</td>\n",
              "      <td>0</td>\n",
              "      <td>0</td>\n",
              "      <td>0</td>\n",
              "      <td>0</td>\n",
              "      <td>1</td>\n",
              "      <td>0</td>\n",
              "      <td>0</td>\n",
              "      <td>0</td>\n",
              "      <td>0</td>\n",
              "      <td>1</td>\n",
              "      <td>0</td>\n",
              "      <td>0</td>\n",
              "      <td>0</td>\n",
              "      <td>0</td>\n",
              "      <td>0</td>\n",
              "      <td>0</td>\n",
              "      <td>0</td>\n",
              "      <td>1</td>\n",
              "      <td>1</td>\n",
              "      <td>0</td>\n",
              "      <td>0</td>\n",
              "      <td>0</td>\n",
              "      <td>0</td>\n",
              "      <td>0</td>\n",
              "      <td>0</td>\n",
              "      <td>0</td>\n",
              "      <td>1</td>\n",
              "      <td>0</td>\n",
              "      <td>56</td>\n",
              "      <td>may</td>\n",
              "      <td>mon</td>\n",
              "      <td>307</td>\n",
              "      <td>1</td>\n",
              "      <td>999</td>\n",
              "      <td>1.1</td>\n",
              "      <td>4.857</td>\n",
              "      <td>5191.0</td>\n",
              "      <td>0</td>\n",
              "    </tr>\n",
              "  </tbody>\n",
              "</table>\n",
              "</div>"
            ],
            "text/plain": [
              "   job_blue-collar  job_entrepreneur  ...  nr.employed  deposit\n",
              "0                0                 0  ...       5191.0        0\n",
              "1                0                 0  ...       5191.0        0\n",
              "2                0                 0  ...       5191.0        0\n",
              "3                0                 0  ...       5191.0        0\n",
              "4                0                 0  ...       5191.0        0\n",
              "\n",
              "[5 rows x 45 columns]"
            ]
          },
          "metadata": {
            "tags": []
          },
          "execution_count": 11
        }
      ]
    },
    {
      "cell_type": "code",
      "metadata": {
        "id": "g5Jnuui4_b6V",
        "colab_type": "code",
        "colab": {
          "base_uri": "https://localhost:8080/",
          "height": 34
        },
        "outputId": "2e8ec819-3e89-4eab-e41f-14c6a31eccf1"
      },
      "source": [
        "merged.shape"
      ],
      "execution_count": 12,
      "outputs": [
        {
          "output_type": "execute_result",
          "data": {
            "text/plain": [
              "(41188, 45)"
            ]
          },
          "metadata": {
            "tags": []
          },
          "execution_count": 12
        }
      ]
    },
    {
      "cell_type": "code",
      "metadata": {
        "id": "IY4LU0HRBTs8",
        "colab_type": "code",
        "colab": {
          "base_uri": "https://localhost:8080/",
          "height": 236
        },
        "outputId": "0b879eaa-781b-40e3-a903-b8959a702ba4"
      },
      "source": [
        "df = merged.drop(labels=['month','day_of_week'], axis=1)\n",
        "\n",
        "df.head()"
      ],
      "execution_count": 13,
      "outputs": [
        {
          "output_type": "execute_result",
          "data": {
            "text/html": [
              "<div>\n",
              "<style scoped>\n",
              "    .dataframe tbody tr th:only-of-type {\n",
              "        vertical-align: middle;\n",
              "    }\n",
              "\n",
              "    .dataframe tbody tr th {\n",
              "        vertical-align: top;\n",
              "    }\n",
              "\n",
              "    .dataframe thead th {\n",
              "        text-align: right;\n",
              "    }\n",
              "</style>\n",
              "<table border=\"1\" class=\"dataframe\">\n",
              "  <thead>\n",
              "    <tr style=\"text-align: right;\">\n",
              "      <th></th>\n",
              "      <th>job_blue-collar</th>\n",
              "      <th>job_entrepreneur</th>\n",
              "      <th>job_housemaid</th>\n",
              "      <th>job_management</th>\n",
              "      <th>job_retired</th>\n",
              "      <th>job_self-employed</th>\n",
              "      <th>job_services</th>\n",
              "      <th>job_student</th>\n",
              "      <th>job_technician</th>\n",
              "      <th>job_unemployed</th>\n",
              "      <th>job_unknown</th>\n",
              "      <th>marital_married</th>\n",
              "      <th>marital_single</th>\n",
              "      <th>marital_unknown</th>\n",
              "      <th>education_basic.6y</th>\n",
              "      <th>education_basic.9y</th>\n",
              "      <th>education_high.school</th>\n",
              "      <th>education_illiterate</th>\n",
              "      <th>education_professional.course</th>\n",
              "      <th>education_university.degree</th>\n",
              "      <th>education_unknown</th>\n",
              "      <th>housing_unknown</th>\n",
              "      <th>housing_yes</th>\n",
              "      <th>loan_unknown</th>\n",
              "      <th>loan_yes</th>\n",
              "      <th>contact_telephone</th>\n",
              "      <th>previous_1</th>\n",
              "      <th>previous_2</th>\n",
              "      <th>previous_3</th>\n",
              "      <th>previous_4</th>\n",
              "      <th>previous_5</th>\n",
              "      <th>previous_6</th>\n",
              "      <th>previous_7</th>\n",
              "      <th>poutcome_nonexistent</th>\n",
              "      <th>poutcome_success</th>\n",
              "      <th>age</th>\n",
              "      <th>duration</th>\n",
              "      <th>campaign</th>\n",
              "      <th>pdays</th>\n",
              "      <th>emp.var.rate</th>\n",
              "      <th>euribor3m</th>\n",
              "      <th>nr.employed</th>\n",
              "      <th>deposit</th>\n",
              "    </tr>\n",
              "  </thead>\n",
              "  <tbody>\n",
              "    <tr>\n",
              "      <th>0</th>\n",
              "      <td>0</td>\n",
              "      <td>0</td>\n",
              "      <td>1</td>\n",
              "      <td>0</td>\n",
              "      <td>0</td>\n",
              "      <td>0</td>\n",
              "      <td>0</td>\n",
              "      <td>0</td>\n",
              "      <td>0</td>\n",
              "      <td>0</td>\n",
              "      <td>0</td>\n",
              "      <td>1</td>\n",
              "      <td>0</td>\n",
              "      <td>0</td>\n",
              "      <td>0</td>\n",
              "      <td>0</td>\n",
              "      <td>0</td>\n",
              "      <td>0</td>\n",
              "      <td>0</td>\n",
              "      <td>0</td>\n",
              "      <td>0</td>\n",
              "      <td>0</td>\n",
              "      <td>0</td>\n",
              "      <td>0</td>\n",
              "      <td>0</td>\n",
              "      <td>1</td>\n",
              "      <td>0</td>\n",
              "      <td>0</td>\n",
              "      <td>0</td>\n",
              "      <td>0</td>\n",
              "      <td>0</td>\n",
              "      <td>0</td>\n",
              "      <td>0</td>\n",
              "      <td>1</td>\n",
              "      <td>0</td>\n",
              "      <td>56</td>\n",
              "      <td>261</td>\n",
              "      <td>1</td>\n",
              "      <td>999</td>\n",
              "      <td>1.1</td>\n",
              "      <td>4.857</td>\n",
              "      <td>5191.0</td>\n",
              "      <td>0</td>\n",
              "    </tr>\n",
              "    <tr>\n",
              "      <th>1</th>\n",
              "      <td>0</td>\n",
              "      <td>0</td>\n",
              "      <td>0</td>\n",
              "      <td>0</td>\n",
              "      <td>0</td>\n",
              "      <td>0</td>\n",
              "      <td>1</td>\n",
              "      <td>0</td>\n",
              "      <td>0</td>\n",
              "      <td>0</td>\n",
              "      <td>0</td>\n",
              "      <td>1</td>\n",
              "      <td>0</td>\n",
              "      <td>0</td>\n",
              "      <td>0</td>\n",
              "      <td>0</td>\n",
              "      <td>1</td>\n",
              "      <td>0</td>\n",
              "      <td>0</td>\n",
              "      <td>0</td>\n",
              "      <td>0</td>\n",
              "      <td>0</td>\n",
              "      <td>0</td>\n",
              "      <td>0</td>\n",
              "      <td>0</td>\n",
              "      <td>1</td>\n",
              "      <td>0</td>\n",
              "      <td>0</td>\n",
              "      <td>0</td>\n",
              "      <td>0</td>\n",
              "      <td>0</td>\n",
              "      <td>0</td>\n",
              "      <td>0</td>\n",
              "      <td>1</td>\n",
              "      <td>0</td>\n",
              "      <td>57</td>\n",
              "      <td>149</td>\n",
              "      <td>1</td>\n",
              "      <td>999</td>\n",
              "      <td>1.1</td>\n",
              "      <td>4.857</td>\n",
              "      <td>5191.0</td>\n",
              "      <td>0</td>\n",
              "    </tr>\n",
              "    <tr>\n",
              "      <th>2</th>\n",
              "      <td>0</td>\n",
              "      <td>0</td>\n",
              "      <td>0</td>\n",
              "      <td>0</td>\n",
              "      <td>0</td>\n",
              "      <td>0</td>\n",
              "      <td>1</td>\n",
              "      <td>0</td>\n",
              "      <td>0</td>\n",
              "      <td>0</td>\n",
              "      <td>0</td>\n",
              "      <td>1</td>\n",
              "      <td>0</td>\n",
              "      <td>0</td>\n",
              "      <td>0</td>\n",
              "      <td>0</td>\n",
              "      <td>1</td>\n",
              "      <td>0</td>\n",
              "      <td>0</td>\n",
              "      <td>0</td>\n",
              "      <td>0</td>\n",
              "      <td>0</td>\n",
              "      <td>1</td>\n",
              "      <td>0</td>\n",
              "      <td>0</td>\n",
              "      <td>1</td>\n",
              "      <td>0</td>\n",
              "      <td>0</td>\n",
              "      <td>0</td>\n",
              "      <td>0</td>\n",
              "      <td>0</td>\n",
              "      <td>0</td>\n",
              "      <td>0</td>\n",
              "      <td>1</td>\n",
              "      <td>0</td>\n",
              "      <td>37</td>\n",
              "      <td>226</td>\n",
              "      <td>1</td>\n",
              "      <td>999</td>\n",
              "      <td>1.1</td>\n",
              "      <td>4.857</td>\n",
              "      <td>5191.0</td>\n",
              "      <td>0</td>\n",
              "    </tr>\n",
              "    <tr>\n",
              "      <th>3</th>\n",
              "      <td>0</td>\n",
              "      <td>0</td>\n",
              "      <td>0</td>\n",
              "      <td>0</td>\n",
              "      <td>0</td>\n",
              "      <td>0</td>\n",
              "      <td>0</td>\n",
              "      <td>0</td>\n",
              "      <td>0</td>\n",
              "      <td>0</td>\n",
              "      <td>0</td>\n",
              "      <td>1</td>\n",
              "      <td>0</td>\n",
              "      <td>0</td>\n",
              "      <td>1</td>\n",
              "      <td>0</td>\n",
              "      <td>0</td>\n",
              "      <td>0</td>\n",
              "      <td>0</td>\n",
              "      <td>0</td>\n",
              "      <td>0</td>\n",
              "      <td>0</td>\n",
              "      <td>0</td>\n",
              "      <td>0</td>\n",
              "      <td>0</td>\n",
              "      <td>1</td>\n",
              "      <td>0</td>\n",
              "      <td>0</td>\n",
              "      <td>0</td>\n",
              "      <td>0</td>\n",
              "      <td>0</td>\n",
              "      <td>0</td>\n",
              "      <td>0</td>\n",
              "      <td>1</td>\n",
              "      <td>0</td>\n",
              "      <td>40</td>\n",
              "      <td>151</td>\n",
              "      <td>1</td>\n",
              "      <td>999</td>\n",
              "      <td>1.1</td>\n",
              "      <td>4.857</td>\n",
              "      <td>5191.0</td>\n",
              "      <td>0</td>\n",
              "    </tr>\n",
              "    <tr>\n",
              "      <th>4</th>\n",
              "      <td>0</td>\n",
              "      <td>0</td>\n",
              "      <td>0</td>\n",
              "      <td>0</td>\n",
              "      <td>0</td>\n",
              "      <td>0</td>\n",
              "      <td>1</td>\n",
              "      <td>0</td>\n",
              "      <td>0</td>\n",
              "      <td>0</td>\n",
              "      <td>0</td>\n",
              "      <td>1</td>\n",
              "      <td>0</td>\n",
              "      <td>0</td>\n",
              "      <td>0</td>\n",
              "      <td>0</td>\n",
              "      <td>1</td>\n",
              "      <td>0</td>\n",
              "      <td>0</td>\n",
              "      <td>0</td>\n",
              "      <td>0</td>\n",
              "      <td>0</td>\n",
              "      <td>0</td>\n",
              "      <td>0</td>\n",
              "      <td>1</td>\n",
              "      <td>1</td>\n",
              "      <td>0</td>\n",
              "      <td>0</td>\n",
              "      <td>0</td>\n",
              "      <td>0</td>\n",
              "      <td>0</td>\n",
              "      <td>0</td>\n",
              "      <td>0</td>\n",
              "      <td>1</td>\n",
              "      <td>0</td>\n",
              "      <td>56</td>\n",
              "      <td>307</td>\n",
              "      <td>1</td>\n",
              "      <td>999</td>\n",
              "      <td>1.1</td>\n",
              "      <td>4.857</td>\n",
              "      <td>5191.0</td>\n",
              "      <td>0</td>\n",
              "    </tr>\n",
              "  </tbody>\n",
              "</table>\n",
              "</div>"
            ],
            "text/plain": [
              "   job_blue-collar  job_entrepreneur  ...  nr.employed  deposit\n",
              "0                0                 0  ...       5191.0        0\n",
              "1                0                 0  ...       5191.0        0\n",
              "2                0                 0  ...       5191.0        0\n",
              "3                0                 0  ...       5191.0        0\n",
              "4                0                 0  ...       5191.0        0\n",
              "\n",
              "[5 rows x 43 columns]"
            ]
          },
          "metadata": {
            "tags": []
          },
          "execution_count": 13
        }
      ]
    },
    {
      "cell_type": "markdown",
      "metadata": {
        "id": "dyAZ2oeSB_cL",
        "colab_type": "text"
      },
      "source": [
        "**Split Input and Output**"
      ]
    },
    {
      "cell_type": "code",
      "metadata": {
        "id": "HZJx3nmKCG-_",
        "colab_type": "code",
        "colab": {}
      },
      "source": [
        "X = df.drop('deposit', axis=1)"
      ],
      "execution_count": 0,
      "outputs": []
    },
    {
      "cell_type": "code",
      "metadata": {
        "id": "O0v1_YmWCdnR",
        "colab_type": "code",
        "colab": {}
      },
      "source": [
        "y = df[['deposit']]"
      ],
      "execution_count": 0,
      "outputs": []
    },
    {
      "cell_type": "markdown",
      "metadata": {
        "id": "qK6LkPC_CsiE",
        "colab_type": "text"
      },
      "source": [
        "**Desicion tree model**"
      ]
    },
    {
      "cell_type": "code",
      "metadata": {
        "id": "_4Fi4_-rCzI8",
        "colab_type": "code",
        "colab": {}
      },
      "source": [
        "model = DecisionTreeClassifier()"
      ],
      "execution_count": 0,
      "outputs": []
    },
    {
      "cell_type": "code",
      "metadata": {
        "id": "b82P8fpEFa-2",
        "colab_type": "code",
        "colab": {
          "base_uri": "https://localhost:8080/",
          "height": 122
        },
        "outputId": "51464ad0-f3f8-46ee-a12e-71557ea9e8f4"
      },
      "source": [
        "model.fit(X,y)"
      ],
      "execution_count": 77,
      "outputs": [
        {
          "output_type": "execute_result",
          "data": {
            "text/plain": [
              "DecisionTreeClassifier(ccp_alpha=0.0, class_weight=None, criterion='gini',\n",
              "                       max_depth=None, max_features=None, max_leaf_nodes=None,\n",
              "                       min_impurity_decrease=0.0, min_impurity_split=None,\n",
              "                       min_samples_leaf=1, min_samples_split=2,\n",
              "                       min_weight_fraction_leaf=0.0, presort='deprecated',\n",
              "                       random_state=None, splitter='best')"
            ]
          },
          "metadata": {
            "tags": []
          },
          "execution_count": 77
        }
      ]
    },
    {
      "cell_type": "markdown",
      "metadata": {
        "id": "_zge6D6VFqAe",
        "colab_type": "text"
      },
      "source": [
        "**Train Test Split**"
      ]
    },
    {
      "cell_type": "code",
      "metadata": {
        "id": "zdf_alwDFzpS",
        "colab_type": "code",
        "colab": {}
      },
      "source": [
        "X_train, X_test,y_train,y_test = train_test_split(X,y, test_size= 0.33, random_state = 50)"
      ],
      "execution_count": 0,
      "outputs": []
    },
    {
      "cell_type": "code",
      "metadata": {
        "id": "Oc1-1FhqGkGf",
        "colab_type": "code",
        "colab": {
          "base_uri": "https://localhost:8080/",
          "height": 122
        },
        "outputId": "091779d9-beec-4512-8ae1-339fb0319c6e"
      },
      "source": [
        "model.fit(X_train, y_train)"
      ],
      "execution_count": 79,
      "outputs": [
        {
          "output_type": "execute_result",
          "data": {
            "text/plain": [
              "DecisionTreeClassifier(ccp_alpha=0.0, class_weight=None, criterion='gini',\n",
              "                       max_depth=None, max_features=None, max_leaf_nodes=None,\n",
              "                       min_impurity_decrease=0.0, min_impurity_split=None,\n",
              "                       min_samples_leaf=1, min_samples_split=2,\n",
              "                       min_weight_fraction_leaf=0.0, presort='deprecated',\n",
              "                       random_state=None, splitter='best')"
            ]
          },
          "metadata": {
            "tags": []
          },
          "execution_count": 79
        }
      ]
    },
    {
      "cell_type": "markdown",
      "metadata": {
        "id": "a9_JnoaBG0Pt",
        "colab_type": "text"
      },
      "source": [
        "**Evaluation**"
      ]
    },
    {
      "cell_type": "code",
      "metadata": {
        "id": "jKGAe1ZAG6RL",
        "colab_type": "code",
        "colab": {
          "base_uri": "https://localhost:8080/",
          "height": 34
        },
        "outputId": "232befba-1cd8-40aa-8951-11a6d10608ac"
      },
      "source": [
        "y_pred = model.predict(X_test)\n",
        "y_pred"
      ],
      "execution_count": 80,
      "outputs": [
        {
          "output_type": "execute_result",
          "data": {
            "text/plain": [
              "array([0, 0, 0, ..., 0, 0, 0])"
            ]
          },
          "metadata": {
            "tags": []
          },
          "execution_count": 80
        }
      ]
    },
    {
      "cell_type": "code",
      "metadata": {
        "id": "50-61kPdgVP4",
        "colab_type": "code",
        "colab": {
          "base_uri": "https://localhost:8080/",
          "height": 34
        },
        "outputId": "cb4e0105-404a-4926-95c7-d587428d210e"
      },
      "source": [
        "accuracy_score(y_test, y_pred)"
      ],
      "execution_count": 81,
      "outputs": [
        {
          "output_type": "execute_result",
          "data": {
            "text/plain": [
              "0.8887662767600971"
            ]
          },
          "metadata": {
            "tags": []
          },
          "execution_count": 81
        }
      ]
    },
    {
      "cell_type": "code",
      "metadata": {
        "id": "HCCDaQo7gdn2",
        "colab_type": "code",
        "colab": {
          "base_uri": "https://localhost:8080/",
          "height": 34
        },
        "outputId": "3de1bcfc-22fe-4179-cc6c-e20bd45acc84"
      },
      "source": [
        "precision_score(y_test, y_pred)"
      ],
      "execution_count": 84,
      "outputs": [
        {
          "output_type": "execute_result",
          "data": {
            "text/plain": [
              "0.5114649681528662"
            ]
          },
          "metadata": {
            "tags": []
          },
          "execution_count": 84
        }
      ]
    },
    {
      "cell_type": "code",
      "metadata": {
        "id": "GFC5q6vgglLT",
        "colab_type": "code",
        "colab": {
          "base_uri": "https://localhost:8080/",
          "height": 34
        },
        "outputId": "384e0c49-7b78-47c1-d407-8cca115f0531"
      },
      "source": [
        "recall_score(y_test, y_pred)"
      ],
      "execution_count": 83,
      "outputs": [
        {
          "output_type": "execute_result",
          "data": {
            "text/plain": [
              "0.5187338501291989"
            ]
          },
          "metadata": {
            "tags": []
          },
          "execution_count": 83
        }
      ]
    },
    {
      "cell_type": "code",
      "metadata": {
        "id": "n0PG8CGxgwRk",
        "colab_type": "code",
        "colab": {
          "base_uri": "https://localhost:8080/",
          "height": 34
        },
        "outputId": "7e4ddc3e-a50b-4f4a-cb87-50912e2dd58f"
      },
      "source": [
        "f1_score(y_test, y_pred)"
      ],
      "execution_count": 82,
      "outputs": [
        {
          "output_type": "execute_result",
          "data": {
            "text/plain": [
              "0.5150737652341244"
            ]
          },
          "metadata": {
            "tags": []
          },
          "execution_count": 82
        }
      ]
    },
    {
      "cell_type": "markdown",
      "metadata": {
        "id": "r88we6Lgg4mg",
        "colab_type": "text"
      },
      "source": [
        "**K-Folds cross validation**"
      ]
    },
    {
      "cell_type": "code",
      "metadata": {
        "id": "_T5rwislg-5O",
        "colab_type": "code",
        "colab": {}
      },
      "source": [
        "model_k = DecisionTreeClassifier()"
      ],
      "execution_count": 0,
      "outputs": []
    },
    {
      "cell_type": "code",
      "metadata": {
        "id": "8MQ1RAKlhDNS",
        "colab_type": "code",
        "colab": {}
      },
      "source": [
        "scores = cross_validate(model_k, X_train,y_train, cv=3, scoring=('accuracy','average_precision','recall','f1'))"
      ],
      "execution_count": 0,
      "outputs": []
    },
    {
      "cell_type": "code",
      "metadata": {
        "id": "SyD1hk3ahY3G",
        "colab_type": "code",
        "colab": {
          "base_uri": "https://localhost:8080/",
          "height": 122
        },
        "outputId": "045766de-0233-45e6-cf36-5825294993f1"
      },
      "source": [
        "scores"
      ],
      "execution_count": 87,
      "outputs": [
        {
          "output_type": "execute_result",
          "data": {
            "text/plain": [
              "{'fit_time': array([0.1211617 , 0.10266304, 0.10044026]),\n",
              " 'score_time': array([0.0221467 , 0.0173285 , 0.01714563]),\n",
              " 'test_accuracy': array([0.89183607, 0.8929115 , 0.89247663]),\n",
              " 'test_average_precision': array([0.32579018, 0.3237993 , 0.33299334]),\n",
              " 'test_f1': array([0.52232357, 0.5192777 , 0.53061224]),\n",
              " 'test_recall': array([0.52764306, 0.51650485, 0.54219205])}"
            ]
          },
          "metadata": {
            "tags": []
          },
          "execution_count": 87
        }
      ]
    },
    {
      "cell_type": "markdown",
      "metadata": {
        "id": "yVDBUNflpjAF",
        "colab_type": "text"
      },
      "source": [
        "**save model**"
      ]
    },
    {
      "cell_type": "code",
      "metadata": {
        "id": "u7Gj6oKQpm5e",
        "colab_type": "code",
        "colab": {}
      },
      "source": [
        "pickle.dump(model_k,open('../content/drive/My Drive/MLGraz project/DesicionTree.model','wb'))"
      ],
      "execution_count": 0,
      "outputs": []
    },
    {
      "cell_type": "markdown",
      "metadata": {
        "id": "oeLIBJhVKBnK",
        "colab_type": "text"
      },
      "source": [
        "**Random Forest**"
      ]
    },
    {
      "cell_type": "code",
      "metadata": {
        "id": "3Dafr22OKK4l",
        "colab_type": "code",
        "colab": {}
      },
      "source": [
        "rfc_f = RandomForestClassifier()"
      ],
      "execution_count": 0,
      "outputs": []
    },
    {
      "cell_type": "code",
      "metadata": {
        "id": "U1BG8DbQKdYS",
        "colab_type": "code",
        "colab": {}
      },
      "source": [
        "rfc_scores = cross_validate(rfc_f,X_train, y_train.values.ravel(), cv=3,scoring=('accuracy','average_precision','recall','f1'))"
      ],
      "execution_count": 0,
      "outputs": []
    },
    {
      "cell_type": "code",
      "metadata": {
        "id": "NjXhJHSWLDUk",
        "colab_type": "code",
        "colab": {
          "base_uri": "https://localhost:8080/",
          "height": 122
        },
        "outputId": "df11a48a-a0fe-4fb1-dc11-9f0ae9ea3eb7"
      },
      "source": [
        "rfc_scores"
      ],
      "execution_count": 115,
      "outputs": [
        {
          "output_type": "execute_result",
          "data": {
            "text/plain": [
              "{'fit_time': array([1.76237726, 1.7495153 , 1.71761131]),\n",
              " 'score_time': array([0.32835793, 0.3282876 , 0.33005214]),\n",
              " 'test_accuracy': array([0.91140341, 0.91041531, 0.91193738]),\n",
              " 'test_average_precision': array([0.62116144, 0.63065678, 0.64233163]),\n",
              " 'test_f1': array([0.5377198 , 0.52914286, 0.53233256]),\n",
              " 'test_recall': array([0.45974782, 0.44951456, 0.4471387 ])}"
            ]
          },
          "metadata": {
            "tags": []
          },
          "execution_count": 115
        }
      ]
    },
    {
      "cell_type": "markdown",
      "metadata": {
        "id": "Xd5hYdDApWhm",
        "colab_type": "text"
      },
      "source": [
        "**Save model**"
      ]
    },
    {
      "cell_type": "code",
      "metadata": {
        "id": "E_nY50lFoFV6",
        "colab_type": "code",
        "colab": {}
      },
      "source": [
        "pickle.dump(rfc_f,open('../content/drive/My Drive/MLGraz project/RandomForestClassifier.model','wb'))"
      ],
      "execution_count": 0,
      "outputs": []
    },
    {
      "cell_type": "markdown",
      "metadata": {
        "id": "NkKQ4nIILRvD",
        "colab_type": "text"
      },
      "source": [
        "**Comparing Random Forest and Decision Tree**"
      ]
    },
    {
      "cell_type": "code",
      "metadata": {
        "id": "c5KVUUYYLZZJ",
        "colab_type": "code",
        "colab": {}
      },
      "source": [
        "report = pd.DataFrame(index=list(rfc_scores.keys())[2:],columns=['Decision Tree', 'Random Forest'])\n"
      ],
      "execution_count": 0,
      "outputs": []
    },
    {
      "cell_type": "code",
      "metadata": {
        "id": "znjtLGHyPtRq",
        "colab_type": "code",
        "colab": {}
      },
      "source": [
        "for key in report.index:\n",
        "  report.loc[key] = [np.mean(scores[key]),np.mean(rfc_scores[key])]"
      ],
      "execution_count": 0,
      "outputs": []
    },
    {
      "cell_type": "code",
      "metadata": {
        "id": "gUeJ6pu_Rzpz",
        "colab_type": "code",
        "colab": {}
      },
      "source": [
        "report['Improvement'] = report['Random Forest'] - report['Desicion Tree']\n",
        "report *=100\n",
        "report = report.astype(float).round(1)"
      ],
      "execution_count": 0,
      "outputs": []
    },
    {
      "cell_type": "code",
      "metadata": {
        "id": "U1cYceAESm8L",
        "colab_type": "code",
        "colab": {
          "base_uri": "https://localhost:8080/",
          "height": 169
        },
        "outputId": "fc8e3636-0c94-4998-b385-745974e09dd1"
      },
      "source": [
        "report"
      ],
      "execution_count": 75,
      "outputs": [
        {
          "output_type": "execute_result",
          "data": {
            "text/html": [
              "<div>\n",
              "<style scoped>\n",
              "    .dataframe tbody tr th:only-of-type {\n",
              "        vertical-align: middle;\n",
              "    }\n",
              "\n",
              "    .dataframe tbody tr th {\n",
              "        vertical-align: top;\n",
              "    }\n",
              "\n",
              "    .dataframe thead th {\n",
              "        text-align: right;\n",
              "    }\n",
              "</style>\n",
              "<table border=\"1\" class=\"dataframe\">\n",
              "  <thead>\n",
              "    <tr style=\"text-align: right;\">\n",
              "      <th></th>\n",
              "      <th>Desicion Tree</th>\n",
              "      <th>Random Forest</th>\n",
              "      <th>Improvement</th>\n",
              "    </tr>\n",
              "  </thead>\n",
              "  <tbody>\n",
              "    <tr>\n",
              "      <th>test_accuracy</th>\n",
              "      <td>89.3</td>\n",
              "      <td>91.2</td>\n",
              "      <td>2.0</td>\n",
              "    </tr>\n",
              "    <tr>\n",
              "      <th>test_average_precision</th>\n",
              "      <td>32.5</td>\n",
              "      <td>63.1</td>\n",
              "      <td>30.6</td>\n",
              "    </tr>\n",
              "    <tr>\n",
              "      <th>test_recall</th>\n",
              "      <td>52.2</td>\n",
              "      <td>46.5</td>\n",
              "      <td>-5.7</td>\n",
              "    </tr>\n",
              "    <tr>\n",
              "      <th>test_f1</th>\n",
              "      <td>52.1</td>\n",
              "      <td>54.3</td>\n",
              "      <td>2.1</td>\n",
              "    </tr>\n",
              "  </tbody>\n",
              "</table>\n",
              "</div>"
            ],
            "text/plain": [
              "                        Desicion Tree  Random Forest  Improvement\n",
              "test_accuracy                    89.3           91.2          2.0\n",
              "test_average_precision           32.5           63.1         30.6\n",
              "test_recall                      52.2           46.5         -5.7\n",
              "test_f1                          52.1           54.3          2.1"
            ]
          },
          "metadata": {
            "tags": []
          },
          "execution_count": 75
        }
      ]
    },
    {
      "cell_type": "markdown",
      "metadata": {
        "id": "lxYUBsohqT0j",
        "colab_type": "text"
      },
      "source": [
        "**Regressor model**"
      ]
    },
    {
      "cell_type": "code",
      "metadata": {
        "id": "Plmah4JwqcGW",
        "colab_type": "code",
        "colab": {}
      },
      "source": [
        "from sklearn.linear_model import LogisticRegression"
      ],
      "execution_count": 0,
      "outputs": []
    },
    {
      "cell_type": "code",
      "metadata": {
        "id": "biU5-myNqv46",
        "colab_type": "code",
        "colab": {}
      },
      "source": [
        "regr = LogisticRegression()"
      ],
      "execution_count": 0,
      "outputs": []
    },
    {
      "cell_type": "code",
      "metadata": {
        "id": "cZq29R6Eq8FM",
        "colab_type": "code",
        "colab": {
          "base_uri": "https://localhost:8080/",
          "height": 371
        },
        "outputId": "18be69ca-5fe4-4e91-d424-083c8cc7b096"
      },
      "source": [
        "regr.fit(X_train, y_train)"
      ],
      "execution_count": 126,
      "outputs": [
        {
          "output_type": "stream",
          "text": [
            "/usr/local/lib/python3.6/dist-packages/sklearn/utils/validation.py:760: DataConversionWarning:\n",
            "\n",
            "A column-vector y was passed when a 1d array was expected. Please change the shape of y to (n_samples, ), for example using ravel().\n",
            "\n",
            "/usr/local/lib/python3.6/dist-packages/sklearn/linear_model/_logistic.py:940: ConvergenceWarning:\n",
            "\n",
            "lbfgs failed to converge (status=1):\n",
            "STOP: TOTAL NO. of ITERATIONS REACHED LIMIT.\n",
            "\n",
            "Increase the number of iterations (max_iter) or scale the data as shown in:\n",
            "    https://scikit-learn.org/stable/modules/preprocessing.html\n",
            "Please also refer to the documentation for alternative solver options:\n",
            "    https://scikit-learn.org/stable/modules/linear_model.html#logistic-regression\n",
            "\n"
          ],
          "name": "stderr"
        },
        {
          "output_type": "execute_result",
          "data": {
            "text/plain": [
              "LogisticRegression(C=1.0, class_weight=None, dual=False, fit_intercept=True,\n",
              "                   intercept_scaling=1, l1_ratio=None, max_iter=100,\n",
              "                   multi_class='auto', n_jobs=None, penalty='l2',\n",
              "                   random_state=None, solver='lbfgs', tol=0.0001, verbose=0,\n",
              "                   warm_start=False)"
            ]
          },
          "metadata": {
            "tags": []
          },
          "execution_count": 126
        }
      ]
    },
    {
      "cell_type": "code",
      "metadata": {
        "id": "-jzaRZSQrF9s",
        "colab_type": "code",
        "colab": {}
      },
      "source": [
        "r_scores = regr.score(X_test,y_test)"
      ],
      "execution_count": 0,
      "outputs": []
    },
    {
      "cell_type": "code",
      "metadata": {
        "id": "hN2nsbsLs5h7",
        "colab_type": "code",
        "colab": {
          "base_uri": "https://localhost:8080/",
          "height": 34
        },
        "outputId": "37ae629e-82e7-44e5-d3b5-5870bbb611fe"
      },
      "source": [
        "r_scores"
      ],
      "execution_count": 133,
      "outputs": [
        {
          "output_type": "execute_result",
          "data": {
            "text/plain": [
              "0.9046568086515118"
            ]
          },
          "metadata": {
            "tags": []
          },
          "execution_count": 133
        }
      ]
    },
    {
      "cell_type": "code",
      "metadata": {
        "id": "GwPJY-oBrPCi",
        "colab_type": "code",
        "colab": {
          "base_uri": "https://localhost:8080/",
          "height": 263
        },
        "outputId": "ba92f893-5e56-48cb-db9b-5035dbc90995"
      },
      "source": [
        "regr.coef_"
      ],
      "execution_count": 129,
      "outputs": [
        {
          "output_type": "execute_result",
          "data": {
            "text/plain": [
              "array([[-9.83170384e-02, -1.17701087e-02,  1.92203764e-03,\n",
              "        -2.24074962e-03,  3.57395871e-02, -4.99664096e-03,\n",
              "        -2.51895643e-02,  3.40725031e-02,  1.09115442e-02,\n",
              "         5.91005464e-03,  1.56596604e-03, -5.70662214e-02,\n",
              "         7.05698346e-02, -5.89197646e-04, -1.19968776e-02,\n",
              "        -5.29319096e-02, -2.17964423e-02,  2.66211917e-04,\n",
              "         9.49422416e-03,  8.14801811e-02,  1.60880148e-02,\n",
              "         2.43133005e-03,  5.46054294e-03,  2.43133005e-03,\n",
              "        -1.62789620e-02, -6.40641723e-02, -4.84118914e-02,\n",
              "         6.65924933e-03,  5.34905737e-03, -1.71643088e-03,\n",
              "         1.17686299e-03,  1.52227361e-04,  0.00000000e+00,\n",
              "         4.21386364e-02,  1.15808236e-02,  8.27392207e-03,\n",
              "         4.53774270e-03,  2.31482378e-02, -2.01816565e-03,\n",
              "        -3.01454349e-01, -3.43930735e-01, -2.67005475e-04]])"
            ]
          },
          "metadata": {
            "tags": []
          },
          "execution_count": 129
        }
      ]
    },
    {
      "cell_type": "code",
      "metadata": {
        "id": "jazQnltVrz1A",
        "colab_type": "code",
        "colab": {
          "base_uri": "https://localhost:8080/",
          "height": 34
        },
        "outputId": "73697836-8090-4bf2-8792-c14610e2dc06"
      },
      "source": [
        "regr.intercept_"
      ],
      "execution_count": 130,
      "outputs": [
        {
          "output_type": "execute_result",
          "data": {
            "text/plain": [
              "array([0.00534915])"
            ]
          },
          "metadata": {
            "tags": []
          },
          "execution_count": 130
        }
      ]
    },
    {
      "cell_type": "markdown",
      "metadata": {
        "id": "3OQNYwDvtcEx",
        "colab_type": "text"
      },
      "source": [
        "**Metrics**"
      ]
    },
    {
      "cell_type": "code",
      "metadata": {
        "id": "kBCmEwH3udI3",
        "colab_type": "code",
        "colab": {}
      },
      "source": [
        "from sklearn import metrics"
      ],
      "execution_count": 0,
      "outputs": []
    },
    {
      "cell_type": "code",
      "metadata": {
        "id": "oDSRt5e6tgYX",
        "colab_type": "code",
        "colab": {
          "base_uri": "https://localhost:8080/",
          "height": 34
        },
        "outputId": "d2045a8d-6a81-4a65-db2d-b6eebe1307d7"
      },
      "source": [
        "metrics.accuracy_score(y_pred, y_test)"
      ],
      "execution_count": 139,
      "outputs": [
        {
          "output_type": "execute_result",
          "data": {
            "text/plain": [
              "0.8887662767600971"
            ]
          },
          "metadata": {
            "tags": []
          },
          "execution_count": 139
        }
      ]
    },
    {
      "cell_type": "markdown",
      "metadata": {
        "id": "6YrmJC-JUMaQ",
        "colab_type": "text"
      },
      "source": [
        "**Feature Importance**"
      ]
    },
    {
      "cell_type": "code",
      "metadata": {
        "id": "nrai5JffnMPE",
        "colab_type": "code",
        "colab": {
          "base_uri": "https://localhost:8080/",
          "height": 107
        },
        "outputId": "53e19fdc-13a9-458f-f438-c6b64489556a"
      },
      "source": [
        "import rfpimp"
      ],
      "execution_count": 108,
      "outputs": [
        {
          "output_type": "stream",
          "text": [
            "/usr/local/lib/python3.6/dist-packages/sklearn/utils/deprecation.py:144: FutureWarning:\n",
            "\n",
            "The sklearn.ensemble.forest module is  deprecated in version 0.22 and will be removed in version 0.24. The corresponding classes / functions should instead be imported from sklearn.ensemble. Anything that cannot be imported from sklearn.ensemble is now part of the private API.\n",
            "\n"
          ],
          "name": "stderr"
        }
      ]
    },
    {
      "cell_type": "code",
      "metadata": {
        "id": "F3ZR9NtqUXjp",
        "colab_type": "code",
        "colab": {}
      },
      "source": [
        "rfc = RandomForestClassifier()"
      ],
      "execution_count": 0,
      "outputs": []
    },
    {
      "cell_type": "code",
      "metadata": {
        "id": "qIqSnVejUbNd",
        "colab_type": "code",
        "colab": {
          "base_uri": "https://localhost:8080/",
          "height": 157
        },
        "outputId": "bfd874b8-d66a-4f9a-9aa5-2364cf094173"
      },
      "source": [
        "rfc.fit(X_train, y_train.values.ravel())"
      ],
      "execution_count": 110,
      "outputs": [
        {
          "output_type": "execute_result",
          "data": {
            "text/plain": [
              "RandomForestClassifier(bootstrap=True, ccp_alpha=0.0, class_weight=None,\n",
              "                       criterion='gini', max_depth=None, max_features='auto',\n",
              "                       max_leaf_nodes=None, max_samples=None,\n",
              "                       min_impurity_decrease=0.0, min_impurity_split=None,\n",
              "                       min_samples_leaf=1, min_samples_split=2,\n",
              "                       min_weight_fraction_leaf=0.0, n_estimators=100,\n",
              "                       n_jobs=None, oob_score=False, random_state=None,\n",
              "                       verbose=0, warm_start=False)"
            ]
          },
          "metadata": {
            "tags": []
          },
          "execution_count": 110
        }
      ]
    },
    {
      "cell_type": "code",
      "metadata": {
        "id": "8psoxw8xUmw4",
        "colab_type": "code",
        "colab": {}
      },
      "source": [
        "importance = rfpimp.importances(rfc,X_test,y_test)"
      ],
      "execution_count": 0,
      "outputs": []
    },
    {
      "cell_type": "code",
      "metadata": {
        "id": "YUAOJ6sHUz1k",
        "colab_type": "code",
        "colab": {
          "base_uri": "https://localhost:8080/",
          "height": 880
        },
        "outputId": "c61af089-4e68-4c51-892d-f9cfcd08b0fe"
      },
      "source": [
        "rfpimp.plot_importances(importance)"
      ],
      "execution_count": 112,
      "outputs": [
        {
          "output_type": "execute_result",
          "data": {
            "text/plain": [
              "<rfpimp.PimpViz at 0x7feddc962e10>"
            ],
            "image/svg+xml": "<?xml version=\"1.0\" encoding=\"utf-8\" standalone=\"no\"?>\n<!DOCTYPE svg PUBLIC \"-//W3C//DTD SVG 1.1//EN\"\n  \"http://www.w3.org/Graphics/SVG/1.1/DTD/svg11.dtd\">\n<!-- Created with matplotlib (https://matplotlib.org/) -->\n<svg height=\"644.798125pt\" version=\"1.1\" viewBox=\"0 0 266.345313 644.798125\" width=\"266.345313pt\" xmlns=\"http://www.w3.org/2000/svg\" xmlns:xlink=\"http://www.w3.org/1999/xlink\">\n <defs>\n  <style type=\"text/css\">\n*{stroke-linecap:butt;stroke-linejoin:round;}\n  </style>\n </defs>\n <g id=\"figure_1\">\n  <g id=\"patch_1\">\n   <path d=\"M 0 644.798125 \nL 266.345313 644.798125 \nL 266.345313 0 \nL 0 0 \nz\n\" style=\"fill:#ffffff;\"/>\n  </g>\n  <g id=\"axes_1\">\n   <g id=\"patch_2\">\n    <path d=\"M 158.8125 628.12 \nL 255.2125 628.12 \nL 255.2125 0 \nL 158.8125 0 \nz\n\" style=\"fill:#ffffff;\"/>\n   </g>\n   <g id=\"patch_3\">\n    <path clip-path=\"url(#pcd63a25d16)\" d=\"M 160.949136 1.356631 \nL 187.091509 1.356631 \nL 187.091509 14.922937 \nL 160.949136 14.922937 \nz\n\" style=\"fill:#d9e6f5;stroke:#444443;stroke-linejoin:miter;stroke-width:0.5;\"/>\n   </g>\n   <g id=\"patch_4\">\n    <path clip-path=\"url(#pcd63a25d16)\" d=\"M 160.949136 16.279568 \nL 169.998419 16.279568 \nL 169.998419 29.845875 \nL 160.949136 29.845875 \nz\n\" style=\"fill:#d9e6f5;stroke:#444443;stroke-linejoin:miter;stroke-width:0.5;\"/>\n   </g>\n   <g id=\"patch_5\">\n    <path clip-path=\"url(#pcd63a25d16)\" d=\"M 160.949136 31.202505 \nL 166.479254 31.202505 \nL 166.479254 44.768812 \nL 160.949136 44.768812 \nz\n\" style=\"fill:#d9e6f5;stroke:#444443;stroke-linejoin:miter;stroke-width:0.5;\"/>\n   </g>\n   <g id=\"patch_6\">\n    <path clip-path=\"url(#pcd63a25d16)\" d=\"M 160.949136 46.125443 \nL 166.353569 46.125443 \nL 166.353569 59.691749 \nL 160.949136 59.691749 \nz\n\" style=\"fill:#d9e6f5;stroke:#444443;stroke-linejoin:miter;stroke-width:0.5;\"/>\n   </g>\n   <g id=\"patch_7\">\n    <path clip-path=\"url(#pcd63a25d16)\" d=\"M 160.949136 61.04838 \nL 163.839879 61.04838 \nL 163.839879 74.614687 \nL 160.949136 74.614687 \nz\n\" style=\"fill:#d9e6f5;stroke:#444443;stroke-linejoin:miter;stroke-width:0.5;\"/>\n   </g>\n   <g id=\"patch_8\">\n    <path clip-path=\"url(#pcd63a25d16)\" d=\"M 160.949136 75.971317 \nL 162.583035 75.971317 \nL 162.583035 89.537624 \nL 160.949136 89.537624 \nz\n\" style=\"fill:#d9e6f5;stroke:#444443;stroke-linejoin:miter;stroke-width:0.5;\"/>\n   </g>\n   <g id=\"patch_9\">\n    <path clip-path=\"url(#pcd63a25d16)\" d=\"M 160.949136 90.894255 \nL 162.331666 90.894255 \nL 162.331666 104.460562 \nL 160.949136 104.460562 \nz\n\" style=\"fill:#d9e6f5;stroke:#444443;stroke-linejoin:miter;stroke-width:0.5;\"/>\n   </g>\n   <g id=\"patch_10\">\n    <path clip-path=\"url(#pcd63a25d16)\" d=\"M 160.949136 105.817192 \nL 162.331666 105.817192 \nL 162.331666 119.383499 \nL 160.949136 119.383499 \nz\n\" style=\"fill:#d9e6f5;stroke:#444443;stroke-linejoin:miter;stroke-width:0.5;\"/>\n   </g>\n   <g id=\"patch_11\">\n    <path clip-path=\"url(#pcd63a25d16)\" d=\"M 160.949136 120.74013 \nL 162.080297 120.74013 \nL 162.080297 134.306436 \nL 160.949136 134.306436 \nz\n\" style=\"fill:#d9e6f5;stroke:#444443;stroke-linejoin:miter;stroke-width:0.5;\"/>\n   </g>\n   <g id=\"patch_12\">\n    <path clip-path=\"url(#pcd63a25d16)\" d=\"M 160.949136 135.663067 \nL 161.954612 135.663067 \nL 161.954612 149.229374 \nL 160.949136 149.229374 \nz\n\" style=\"fill:#d9e6f5;stroke:#444443;stroke-linejoin:miter;stroke-width:0.5;\"/>\n   </g>\n   <g id=\"patch_13\">\n    <path clip-path=\"url(#pcd63a25d16)\" d=\"M 160.949136 150.586004 \nL 161.954612 150.586004 \nL 161.954612 164.152311 \nL 160.949136 164.152311 \nz\n\" style=\"fill:#d9e6f5;stroke:#444443;stroke-linejoin:miter;stroke-width:0.5;\"/>\n   </g>\n   <g id=\"patch_14\">\n    <path clip-path=\"url(#pcd63a25d16)\" d=\"M 160.949136 165.508942 \nL 161.954612 165.508942 \nL 161.954612 179.075248 \nL 160.949136 179.075248 \nz\n\" style=\"fill:#d9e6f5;stroke:#444443;stroke-linejoin:miter;stroke-width:0.5;\"/>\n   </g>\n   <g id=\"patch_15\">\n    <path clip-path=\"url(#pcd63a25d16)\" d=\"M 160.949136 180.431879 \nL 161.828928 180.431879 \nL 161.828928 193.998186 \nL 160.949136 193.998186 \nz\n\" style=\"fill:#d9e6f5;stroke:#444443;stroke-linejoin:miter;stroke-width:0.5;\"/>\n   </g>\n   <g id=\"patch_16\">\n    <path clip-path=\"url(#pcd63a25d16)\" d=\"M 160.949136 195.354816 \nL 161.828928 195.354816 \nL 161.828928 208.921123 \nL 160.949136 208.921123 \nz\n\" style=\"fill:#d9e6f5;stroke:#444443;stroke-linejoin:miter;stroke-width:0.5;\"/>\n   </g>\n   <g id=\"patch_17\">\n    <path clip-path=\"url(#pcd63a25d16)\" d=\"M 160.949136 210.277754 \nL 161.703243 210.277754 \nL 161.703243 223.84406 \nL 160.949136 223.84406 \nz\n\" style=\"fill:#d9e6f5;stroke:#444443;stroke-linejoin:miter;stroke-width:0.5;\"/>\n   </g>\n   <g id=\"patch_18\">\n    <path clip-path=\"url(#pcd63a25d16)\" d=\"M 160.949136 225.200691 \nL 161.703243 225.200691 \nL 161.703243 238.766998 \nL 160.949136 238.766998 \nz\n\" style=\"fill:#d9e6f5;stroke:#444443;stroke-linejoin:miter;stroke-width:0.5;\"/>\n   </g>\n   <g id=\"patch_19\">\n    <path clip-path=\"url(#pcd63a25d16)\" d=\"M 160.949136 240.123629 \nL 161.577559 240.123629 \nL 161.577559 253.689935 \nL 160.949136 253.689935 \nz\n\" style=\"fill:#d9e6f5;stroke:#444443;stroke-linejoin:miter;stroke-width:0.5;\"/>\n   </g>\n   <g id=\"patch_20\">\n    <path clip-path=\"url(#pcd63a25d16)\" d=\"M 160.949136 255.046566 \nL 161.577559 255.046566 \nL 161.577559 268.612873 \nL 160.949136 268.612873 \nz\n\" style=\"fill:#d9e6f5;stroke:#444443;stroke-linejoin:miter;stroke-width:0.5;\"/>\n   </g>\n   <g id=\"patch_21\">\n    <path clip-path=\"url(#pcd63a25d16)\" d=\"M 160.949136 269.969503 \nL 161.577559 269.969503 \nL 161.577559 283.53581 \nL 160.949136 283.53581 \nz\n\" style=\"fill:#d9e6f5;stroke:#444443;stroke-linejoin:miter;stroke-width:0.5;\"/>\n   </g>\n   <g id=\"patch_22\">\n    <path clip-path=\"url(#pcd63a25d16)\" d=\"M 160.949136 284.892441 \nL 161.451874 284.892441 \nL 161.451874 298.458747 \nL 160.949136 298.458747 \nz\n\" style=\"fill:#d9e6f5;stroke:#444443;stroke-linejoin:miter;stroke-width:0.5;\"/>\n   </g>\n   <g id=\"patch_23\">\n    <path clip-path=\"url(#pcd63a25d16)\" d=\"M 160.949136 299.815378 \nL 161.451874 299.815378 \nL 161.451874 313.381685 \nL 160.949136 313.381685 \nz\n\" style=\"fill:#d9e6f5;stroke:#444443;stroke-linejoin:miter;stroke-width:0.5;\"/>\n   </g>\n   <g id=\"patch_24\">\n    <path clip-path=\"url(#pcd63a25d16)\" d=\"M 160.949136 314.738315 \nL 161.32619 314.738315 \nL 161.32619 328.304622 \nL 160.949136 328.304622 \nz\n\" style=\"fill:#d9e6f5;stroke:#444443;stroke-linejoin:miter;stroke-width:0.5;\"/>\n   </g>\n   <g id=\"patch_25\">\n    <path clip-path=\"url(#pcd63a25d16)\" d=\"M 160.949136 329.661253 \nL 161.32619 329.661253 \nL 161.32619 343.227559 \nL 160.949136 343.227559 \nz\n\" style=\"fill:#d9e6f5;stroke:#444443;stroke-linejoin:miter;stroke-width:0.5;\"/>\n   </g>\n   <g id=\"patch_26\">\n    <path clip-path=\"url(#pcd63a25d16)\" d=\"M 160.949136 344.58419 \nL 161.200505 344.58419 \nL 161.200505 358.150497 \nL 160.949136 358.150497 \nz\n\" style=\"fill:#d9e6f5;stroke:#444443;stroke-linejoin:miter;stroke-width:0.5;\"/>\n   </g>\n   <g id=\"patch_27\">\n    <path clip-path=\"url(#pcd63a25d16)\" d=\"M 160.949136 359.507127 \nL 161.200505 359.507127 \nL 161.200505 373.073434 \nL 160.949136 373.073434 \nz\n\" style=\"fill:#d9e6f5;stroke:#444443;stroke-linejoin:miter;stroke-width:0.5;\"/>\n   </g>\n   <g id=\"patch_28\">\n    <path clip-path=\"url(#pcd63a25d16)\" d=\"M 160.949136 374.430065 \nL 161.200505 374.430065 \nL 161.200505 387.996371 \nL 160.949136 387.996371 \nz\n\" style=\"fill:#d9e6f5;stroke:#444443;stroke-linejoin:miter;stroke-width:0.5;\"/>\n   </g>\n   <g id=\"patch_29\">\n    <path clip-path=\"url(#pcd63a25d16)\" d=\"M 160.949136 389.353002 \nL 161.074821 389.353002 \nL 161.074821 402.919309 \nL 160.949136 402.919309 \nz\n\" style=\"fill:#d9e6f5;stroke:#444443;stroke-linejoin:miter;stroke-width:0.5;\"/>\n   </g>\n   <g id=\"patch_30\">\n    <path clip-path=\"url(#pcd63a25d16)\" d=\"M 160.949136 404.27594 \nL 161.074821 404.27594 \nL 161.074821 417.842246 \nL 160.949136 417.842246 \nz\n\" style=\"fill:#d9e6f5;stroke:#444443;stroke-linejoin:miter;stroke-width:0.5;\"/>\n   </g>\n   <g id=\"patch_31\">\n    <path clip-path=\"url(#pcd63a25d16)\" d=\"M 160.949136 419.198877 \nL 161.074821 419.198877 \nL 161.074821 432.765184 \nL 160.949136 432.765184 \nz\n\" style=\"fill:#d9e6f5;stroke:#444443;stroke-linejoin:miter;stroke-width:0.5;\"/>\n   </g>\n   <g id=\"patch_32\">\n    <path clip-path=\"url(#pcd63a25d16)\" d=\"M 160.949136 434.121814 \nL 160.949136 434.121814 \nL 160.949136 447.688121 \nL 160.949136 447.688121 \nz\n\" style=\"fill:#d9e6f5;stroke:#444443;stroke-linejoin:miter;stroke-width:0.5;\"/>\n   </g>\n   <g id=\"patch_33\">\n    <path clip-path=\"url(#pcd63a25d16)\" d=\"M 160.949136 449.044752 \nL 160.949136 449.044752 \nL 160.949136 462.611058 \nL 160.949136 462.611058 \nz\n\" style=\"fill:#d9e6f5;stroke:#444443;stroke-linejoin:miter;stroke-width:0.5;\"/>\n   </g>\n   <g id=\"patch_34\">\n    <path clip-path=\"url(#pcd63a25d16)\" d=\"M 160.949136 463.967689 \nL 160.949136 463.967689 \nL 160.949136 477.533996 \nL 160.949136 477.533996 \nz\n\" style=\"fill:#d9e6f5;stroke:#444443;stroke-linejoin:miter;stroke-width:0.5;\"/>\n   </g>\n   <g id=\"patch_35\">\n    <path clip-path=\"url(#pcd63a25d16)\" d=\"M 160.949136 478.890626 \nL 160.949136 478.890626 \nL 160.949136 492.456933 \nL 160.949136 492.456933 \nz\n\" style=\"fill:#d9e6f5;stroke:#444443;stroke-linejoin:miter;stroke-width:0.5;\"/>\n   </g>\n   <g id=\"patch_36\">\n    <path clip-path=\"url(#pcd63a25d16)\" d=\"M 160.949136 493.813564 \nL 160.949136 493.813564 \nL 160.949136 507.37987 \nL 160.949136 507.37987 \nz\n\" style=\"fill:#d9e6f5;stroke:#444443;stroke-linejoin:miter;stroke-width:0.5;\"/>\n   </g>\n   <g id=\"patch_37\">\n    <path clip-path=\"url(#pcd63a25d16)\" d=\"M 160.949136 508.736501 \nL 160.949136 508.736501 \nL 160.949136 522.302808 \nL 160.949136 522.302808 \nz\n\" style=\"fill:#d9e6f5;stroke:#444443;stroke-linejoin:miter;stroke-width:0.5;\"/>\n   </g>\n   <g id=\"patch_38\">\n    <path clip-path=\"url(#pcd63a25d16)\" d=\"M 160.949136 523.659438 \nL 160.949136 523.659438 \nL 160.949136 537.225745 \nL 160.949136 537.225745 \nz\n\" style=\"fill:#d9e6f5;stroke:#444443;stroke-linejoin:miter;stroke-width:0.5;\"/>\n   </g>\n   <g id=\"patch_39\">\n    <path clip-path=\"url(#pcd63a25d16)\" d=\"M 160.949136 538.582376 \nL 160.949136 538.582376 \nL 160.949136 552.148683 \nL 160.949136 552.148683 \nz\n\" style=\"fill:#d9e6f5;stroke:#444443;stroke-linejoin:miter;stroke-width:0.5;\"/>\n   </g>\n   <g id=\"patch_40\">\n    <path clip-path=\"url(#pcd63a25d16)\" d=\"M 160.949136 553.505313 \nL 160.949136 553.505313 \nL 160.949136 567.07162 \nL 160.949136 567.07162 \nz\n\" style=\"fill:#d9e6f5;stroke:#444443;stroke-linejoin:miter;stroke-width:0.5;\"/>\n   </g>\n   <g id=\"patch_41\">\n    <path clip-path=\"url(#pcd63a25d16)\" d=\"M 160.949136 568.428251 \nL 160.823452 568.428251 \nL 160.823452 581.994557 \nL 160.949136 581.994557 \nz\n\" style=\"fill:#d9e6f5;stroke:#444443;stroke-linejoin:miter;stroke-width:0.5;\"/>\n   </g>\n   <g id=\"patch_42\">\n    <path clip-path=\"url(#pcd63a25d16)\" d=\"M 160.949136 583.351188 \nL 160.823452 583.351188 \nL 160.823452 596.917495 \nL 160.949136 596.917495 \nz\n\" style=\"fill:#d9e6f5;stroke:#444443;stroke-linejoin:miter;stroke-width:0.5;\"/>\n   </g>\n   <g id=\"patch_43\">\n    <path clip-path=\"url(#pcd63a25d16)\" d=\"M 160.949136 598.274125 \nL 160.697767 598.274125 \nL 160.697767 611.840432 \nL 160.949136 611.840432 \nz\n\" style=\"fill:#d9e6f5;stroke:#444443;stroke-linejoin:miter;stroke-width:0.5;\"/>\n   </g>\n   <g id=\"patch_44\">\n    <path clip-path=\"url(#pcd63a25d16)\" d=\"M 160.949136 613.197063 \nL 160.069345 613.197063 \nL 160.069345 626.763369 \nL 160.949136 626.763369 \nz\n\" style=\"fill:#d9e6f5;stroke:#444443;stroke-linejoin:miter;stroke-width:0.5;\"/>\n   </g>\n   <g id=\"matplotlib.axis_1\">\n    <g id=\"xtick_1\">\n     <g id=\"line2d_1\">\n      <defs>\n       <path d=\"M 0 0 \nL 0 3.5 \n\" id=\"me7e3d20d84\" style=\"stroke:#000000;stroke-width:0.8;\"/>\n      </defs>\n      <g>\n       <use style=\"stroke:#000000;stroke-width:0.8;\" x=\"160.949136\" xlink:href=\"#me7e3d20d84\" y=\"628.12\"/>\n      </g>\n     </g>\n     <g id=\"text_1\">\n      <!-- 0.00 -->\n      <defs>\n       <path d=\"M 31.78125 66.40625 \nQ 24.171875 66.40625 20.328125 58.90625 \nQ 16.5 51.421875 16.5 36.375 \nQ 16.5 21.390625 20.328125 13.890625 \nQ 24.171875 6.390625 31.78125 6.390625 \nQ 39.453125 6.390625 43.28125 13.890625 \nQ 47.125 21.390625 47.125 36.375 \nQ 47.125 51.421875 43.28125 58.90625 \nQ 39.453125 66.40625 31.78125 66.40625 \nz\nM 31.78125 74.21875 \nQ 44.046875 74.21875 50.515625 64.515625 \nQ 56.984375 54.828125 56.984375 36.375 \nQ 56.984375 17.96875 50.515625 8.265625 \nQ 44.046875 -1.421875 31.78125 -1.421875 \nQ 19.53125 -1.421875 13.0625 8.265625 \nQ 6.59375 17.96875 6.59375 36.375 \nQ 6.59375 54.828125 13.0625 64.515625 \nQ 19.53125 74.21875 31.78125 74.21875 \nz\n\" id=\"DejaVuSans-48\"/>\n       <path d=\"M 10.6875 12.40625 \nL 21 12.40625 \nL 21 0 \nL 10.6875 0 \nz\n\" id=\"DejaVuSans-46\"/>\n      </defs>\n      <g style=\"fill:#444443;\" transform=\"translate(149.816324 642.718438)scale(0.1 -0.1)\">\n       <use xlink:href=\"#DejaVuSans-48\"/>\n       <use x=\"63.623047\" xlink:href=\"#DejaVuSans-46\"/>\n       <use x=\"95.410156\" xlink:href=\"#DejaVuSans-48\"/>\n       <use x=\"159.033203\" xlink:href=\"#DejaVuSans-48\"/>\n      </g>\n     </g>\n    </g>\n    <g id=\"xtick_2\">\n     <g id=\"line2d_2\">\n      <g>\n       <use style=\"stroke:#000000;stroke-width:0.8;\" x=\"187.091509\" xlink:href=\"#me7e3d20d84\" y=\"628.12\"/>\n      </g>\n     </g>\n     <g id=\"text_2\">\n      <!-- 0.04 -->\n      <defs>\n       <path d=\"M 37.796875 64.3125 \nL 12.890625 25.390625 \nL 37.796875 25.390625 \nz\nM 35.203125 72.90625 \nL 47.609375 72.90625 \nL 47.609375 25.390625 \nL 58.015625 25.390625 \nL 58.015625 17.1875 \nL 47.609375 17.1875 \nL 47.609375 0 \nL 37.796875 0 \nL 37.796875 17.1875 \nL 4.890625 17.1875 \nL 4.890625 26.703125 \nz\n\" id=\"DejaVuSans-52\"/>\n      </defs>\n      <g style=\"fill:#444443;\" transform=\"translate(175.958697 642.718438)scale(0.1 -0.1)\">\n       <use xlink:href=\"#DejaVuSans-48\"/>\n       <use x=\"63.623047\" xlink:href=\"#DejaVuSans-46\"/>\n       <use x=\"95.410156\" xlink:href=\"#DejaVuSans-48\"/>\n       <use x=\"159.033203\" xlink:href=\"#DejaVuSans-52\"/>\n      </g>\n     </g>\n    </g>\n    <g id=\"xtick_3\">\n     <g id=\"line2d_3\">\n      <g>\n       <use style=\"stroke:#000000;stroke-width:0.8;\" x=\"255.2125\" xlink:href=\"#me7e3d20d84\" y=\"628.12\"/>\n      </g>\n     </g>\n     <g id=\"text_3\">\n      <!-- 0.15 -->\n      <defs>\n       <path d=\"M 12.40625 8.296875 \nL 28.515625 8.296875 \nL 28.515625 63.921875 \nL 10.984375 60.40625 \nL 10.984375 69.390625 \nL 28.421875 72.90625 \nL 38.28125 72.90625 \nL 38.28125 8.296875 \nL 54.390625 8.296875 \nL 54.390625 0 \nL 12.40625 0 \nz\n\" id=\"DejaVuSans-49\"/>\n       <path d=\"M 10.796875 72.90625 \nL 49.515625 72.90625 \nL 49.515625 64.59375 \nL 19.828125 64.59375 \nL 19.828125 46.734375 \nQ 21.96875 47.46875 24.109375 47.828125 \nQ 26.265625 48.1875 28.421875 48.1875 \nQ 40.625 48.1875 47.75 41.5 \nQ 54.890625 34.8125 54.890625 23.390625 \nQ 54.890625 11.625 47.5625 5.09375 \nQ 40.234375 -1.421875 26.90625 -1.421875 \nQ 22.3125 -1.421875 17.546875 -0.640625 \nQ 12.796875 0.140625 7.71875 1.703125 \nL 7.71875 11.625 \nQ 12.109375 9.234375 16.796875 8.0625 \nQ 21.484375 6.890625 26.703125 6.890625 \nQ 35.15625 6.890625 40.078125 11.328125 \nQ 45.015625 15.765625 45.015625 23.390625 \nQ 45.015625 31 40.078125 35.4375 \nQ 35.15625 39.890625 26.703125 39.890625 \nQ 22.75 39.890625 18.8125 39.015625 \nQ 14.890625 38.140625 10.796875 36.28125 \nz\n\" id=\"DejaVuSans-53\"/>\n      </defs>\n      <g style=\"fill:#444443;\" transform=\"translate(244.079688 642.718438)scale(0.1 -0.1)\">\n       <use xlink:href=\"#DejaVuSans-48\"/>\n       <use x=\"63.623047\" xlink:href=\"#DejaVuSans-46\"/>\n       <use x=\"95.410156\" xlink:href=\"#DejaVuSans-49\"/>\n       <use x=\"159.033203\" xlink:href=\"#DejaVuSans-53\"/>\n      </g>\n     </g>\n    </g>\n   </g>\n   <g id=\"matplotlib.axis_2\">\n    <g id=\"ytick_1\">\n     <g id=\"line2d_4\">\n      <defs>\n       <path d=\"M 0 0 \nL -3.5 0 \n\" id=\"m8f7422acf6\" style=\"stroke:#000000;stroke-width:0.8;\"/>\n      </defs>\n      <g>\n       <use style=\"stroke:#000000;stroke-width:0.8;\" x=\"158.8125\" xlink:href=\"#m8f7422acf6\" y=\"8.139784\"/>\n      </g>\n     </g>\n     <g id=\"text_4\">\n      <!-- duration -->\n      <defs>\n       <path d=\"M 45.40625 46.390625 \nL 45.40625 75.984375 \nL 54.390625 75.984375 \nL 54.390625 0 \nL 45.40625 0 \nL 45.40625 8.203125 \nQ 42.578125 3.328125 38.25 0.953125 \nQ 33.9375 -1.421875 27.875 -1.421875 \nQ 17.96875 -1.421875 11.734375 6.484375 \nQ 5.515625 14.40625 5.515625 27.296875 \nQ 5.515625 40.1875 11.734375 48.09375 \nQ 17.96875 56 27.875 56 \nQ 33.9375 56 38.25 53.625 \nQ 42.578125 51.265625 45.40625 46.390625 \nz\nM 14.796875 27.296875 \nQ 14.796875 17.390625 18.875 11.75 \nQ 22.953125 6.109375 30.078125 6.109375 \nQ 37.203125 6.109375 41.296875 11.75 \nQ 45.40625 17.390625 45.40625 27.296875 \nQ 45.40625 37.203125 41.296875 42.84375 \nQ 37.203125 48.484375 30.078125 48.484375 \nQ 22.953125 48.484375 18.875 42.84375 \nQ 14.796875 37.203125 14.796875 27.296875 \nz\n\" id=\"DejaVuSans-100\"/>\n       <path d=\"M 8.5 21.578125 \nL 8.5 54.6875 \nL 17.484375 54.6875 \nL 17.484375 21.921875 \nQ 17.484375 14.15625 20.5 10.265625 \nQ 23.53125 6.390625 29.59375 6.390625 \nQ 36.859375 6.390625 41.078125 11.03125 \nQ 45.3125 15.671875 45.3125 23.6875 \nL 45.3125 54.6875 \nL 54.296875 54.6875 \nL 54.296875 0 \nL 45.3125 0 \nL 45.3125 8.40625 \nQ 42.046875 3.421875 37.71875 1 \nQ 33.40625 -1.421875 27.6875 -1.421875 \nQ 18.265625 -1.421875 13.375 4.4375 \nQ 8.5 10.296875 8.5 21.578125 \nz\nM 31.109375 56 \nz\n\" id=\"DejaVuSans-117\"/>\n       <path d=\"M 41.109375 46.296875 \nQ 39.59375 47.171875 37.8125 47.578125 \nQ 36.03125 48 33.890625 48 \nQ 26.265625 48 22.1875 43.046875 \nQ 18.109375 38.09375 18.109375 28.8125 \nL 18.109375 0 \nL 9.078125 0 \nL 9.078125 54.6875 \nL 18.109375 54.6875 \nL 18.109375 46.1875 \nQ 20.953125 51.171875 25.484375 53.578125 \nQ 30.03125 56 36.53125 56 \nQ 37.453125 56 38.578125 55.875 \nQ 39.703125 55.765625 41.0625 55.515625 \nz\n\" id=\"DejaVuSans-114\"/>\n       <path d=\"M 34.28125 27.484375 \nQ 23.390625 27.484375 19.1875 25 \nQ 14.984375 22.515625 14.984375 16.5 \nQ 14.984375 11.71875 18.140625 8.90625 \nQ 21.296875 6.109375 26.703125 6.109375 \nQ 34.1875 6.109375 38.703125 11.40625 \nQ 43.21875 16.703125 43.21875 25.484375 \nL 43.21875 27.484375 \nz\nM 52.203125 31.203125 \nL 52.203125 0 \nL 43.21875 0 \nL 43.21875 8.296875 \nQ 40.140625 3.328125 35.546875 0.953125 \nQ 30.953125 -1.421875 24.3125 -1.421875 \nQ 15.921875 -1.421875 10.953125 3.296875 \nQ 6 8.015625 6 15.921875 \nQ 6 25.140625 12.171875 29.828125 \nQ 18.359375 34.515625 30.609375 34.515625 \nL 43.21875 34.515625 \nL 43.21875 35.40625 \nQ 43.21875 41.609375 39.140625 45 \nQ 35.0625 48.390625 27.6875 48.390625 \nQ 23 48.390625 18.546875 47.265625 \nQ 14.109375 46.140625 10.015625 43.890625 \nL 10.015625 52.203125 \nQ 14.9375 54.109375 19.578125 55.046875 \nQ 24.21875 56 28.609375 56 \nQ 40.484375 56 46.34375 49.84375 \nQ 52.203125 43.703125 52.203125 31.203125 \nz\n\" id=\"DejaVuSans-97\"/>\n       <path d=\"M 18.3125 70.21875 \nL 18.3125 54.6875 \nL 36.8125 54.6875 \nL 36.8125 47.703125 \nL 18.3125 47.703125 \nL 18.3125 18.015625 \nQ 18.3125 11.328125 20.140625 9.421875 \nQ 21.96875 7.515625 27.59375 7.515625 \nL 36.8125 7.515625 \nL 36.8125 0 \nL 27.59375 0 \nQ 17.1875 0 13.234375 3.875 \nQ 9.28125 7.765625 9.28125 18.015625 \nL 9.28125 47.703125 \nL 2.6875 47.703125 \nL 2.6875 54.6875 \nL 9.28125 54.6875 \nL 9.28125 70.21875 \nz\n\" id=\"DejaVuSans-116\"/>\n       <path d=\"M 9.421875 54.6875 \nL 18.40625 54.6875 \nL 18.40625 0 \nL 9.421875 0 \nz\nM 9.421875 75.984375 \nL 18.40625 75.984375 \nL 18.40625 64.59375 \nL 9.421875 64.59375 \nz\n\" id=\"DejaVuSans-105\"/>\n       <path d=\"M 30.609375 48.390625 \nQ 23.390625 48.390625 19.1875 42.75 \nQ 14.984375 37.109375 14.984375 27.296875 \nQ 14.984375 17.484375 19.15625 11.84375 \nQ 23.34375 6.203125 30.609375 6.203125 \nQ 37.796875 6.203125 41.984375 11.859375 \nQ 46.1875 17.53125 46.1875 27.296875 \nQ 46.1875 37.015625 41.984375 42.703125 \nQ 37.796875 48.390625 30.609375 48.390625 \nz\nM 30.609375 56 \nQ 42.328125 56 49.015625 48.375 \nQ 55.71875 40.765625 55.71875 27.296875 \nQ 55.71875 13.875 49.015625 6.21875 \nQ 42.328125 -1.421875 30.609375 -1.421875 \nQ 18.84375 -1.421875 12.171875 6.21875 \nQ 5.515625 13.875 5.515625 27.296875 \nQ 5.515625 40.765625 12.171875 48.375 \nQ 18.84375 56 30.609375 56 \nz\n\" id=\"DejaVuSans-111\"/>\n       <path d=\"M 54.890625 33.015625 \nL 54.890625 0 \nL 45.90625 0 \nL 45.90625 32.71875 \nQ 45.90625 40.484375 42.875 44.328125 \nQ 39.84375 48.1875 33.796875 48.1875 \nQ 26.515625 48.1875 22.3125 43.546875 \nQ 18.109375 38.921875 18.109375 30.90625 \nL 18.109375 0 \nL 9.078125 0 \nL 9.078125 54.6875 \nL 18.109375 54.6875 \nL 18.109375 46.1875 \nQ 21.34375 51.125 25.703125 53.5625 \nQ 30.078125 56 35.796875 56 \nQ 45.21875 56 50.046875 50.171875 \nQ 54.890625 44.34375 54.890625 33.015625 \nz\n\" id=\"DejaVuSans-110\"/>\n      </defs>\n      <g style=\"fill:#444443;\" transform=\"translate(109.732812 11.939003)scale(0.1 -0.1)\">\n       <use xlink:href=\"#DejaVuSans-100\"/>\n       <use x=\"63.476562\" xlink:href=\"#DejaVuSans-117\"/>\n       <use x=\"126.855469\" xlink:href=\"#DejaVuSans-114\"/>\n       <use x=\"167.96875\" xlink:href=\"#DejaVuSans-97\"/>\n       <use x=\"229.248047\" xlink:href=\"#DejaVuSans-116\"/>\n       <use x=\"268.457031\" xlink:href=\"#DejaVuSans-105\"/>\n       <use x=\"296.240234\" xlink:href=\"#DejaVuSans-111\"/>\n       <use x=\"357.421875\" xlink:href=\"#DejaVuSans-110\"/>\n      </g>\n     </g>\n    </g>\n    <g id=\"ytick_2\">\n     <g id=\"line2d_5\">\n      <g>\n       <use style=\"stroke:#000000;stroke-width:0.8;\" x=\"158.8125\" xlink:href=\"#m8f7422acf6\" y=\"23.062721\"/>\n      </g>\n     </g>\n     <g id=\"text_5\">\n      <!-- euribor3m -->\n      <defs>\n       <path d=\"M 56.203125 29.59375 \nL 56.203125 25.203125 \nL 14.890625 25.203125 \nQ 15.484375 15.921875 20.484375 11.0625 \nQ 25.484375 6.203125 34.421875 6.203125 \nQ 39.59375 6.203125 44.453125 7.46875 \nQ 49.3125 8.734375 54.109375 11.28125 \nL 54.109375 2.78125 \nQ 49.265625 0.734375 44.1875 -0.34375 \nQ 39.109375 -1.421875 33.890625 -1.421875 \nQ 20.796875 -1.421875 13.15625 6.1875 \nQ 5.515625 13.8125 5.515625 26.8125 \nQ 5.515625 40.234375 12.765625 48.109375 \nQ 20.015625 56 32.328125 56 \nQ 43.359375 56 49.78125 48.890625 \nQ 56.203125 41.796875 56.203125 29.59375 \nz\nM 47.21875 32.234375 \nQ 47.125 39.59375 43.09375 43.984375 \nQ 39.0625 48.390625 32.421875 48.390625 \nQ 24.90625 48.390625 20.390625 44.140625 \nQ 15.875 39.890625 15.1875 32.171875 \nz\n\" id=\"DejaVuSans-101\"/>\n       <path d=\"M 48.6875 27.296875 \nQ 48.6875 37.203125 44.609375 42.84375 \nQ 40.53125 48.484375 33.40625 48.484375 \nQ 26.265625 48.484375 22.1875 42.84375 \nQ 18.109375 37.203125 18.109375 27.296875 \nQ 18.109375 17.390625 22.1875 11.75 \nQ 26.265625 6.109375 33.40625 6.109375 \nQ 40.53125 6.109375 44.609375 11.75 \nQ 48.6875 17.390625 48.6875 27.296875 \nz\nM 18.109375 46.390625 \nQ 20.953125 51.265625 25.265625 53.625 \nQ 29.59375 56 35.59375 56 \nQ 45.5625 56 51.78125 48.09375 \nQ 58.015625 40.1875 58.015625 27.296875 \nQ 58.015625 14.40625 51.78125 6.484375 \nQ 45.5625 -1.421875 35.59375 -1.421875 \nQ 29.59375 -1.421875 25.265625 0.953125 \nQ 20.953125 3.328125 18.109375 8.203125 \nL 18.109375 0 \nL 9.078125 0 \nL 9.078125 75.984375 \nL 18.109375 75.984375 \nz\n\" id=\"DejaVuSans-98\"/>\n       <path d=\"M 40.578125 39.3125 \nQ 47.65625 37.796875 51.625 33 \nQ 55.609375 28.21875 55.609375 21.1875 \nQ 55.609375 10.40625 48.1875 4.484375 \nQ 40.765625 -1.421875 27.09375 -1.421875 \nQ 22.515625 -1.421875 17.65625 -0.515625 \nQ 12.796875 0.390625 7.625 2.203125 \nL 7.625 11.71875 \nQ 11.71875 9.328125 16.59375 8.109375 \nQ 21.484375 6.890625 26.8125 6.890625 \nQ 36.078125 6.890625 40.9375 10.546875 \nQ 45.796875 14.203125 45.796875 21.1875 \nQ 45.796875 27.640625 41.28125 31.265625 \nQ 36.765625 34.90625 28.71875 34.90625 \nL 20.21875 34.90625 \nL 20.21875 43.015625 \nL 29.109375 43.015625 \nQ 36.375 43.015625 40.234375 45.921875 \nQ 44.09375 48.828125 44.09375 54.296875 \nQ 44.09375 59.90625 40.109375 62.90625 \nQ 36.140625 65.921875 28.71875 65.921875 \nQ 24.65625 65.921875 20.015625 65.03125 \nQ 15.375 64.15625 9.8125 62.3125 \nL 9.8125 71.09375 \nQ 15.4375 72.65625 20.34375 73.4375 \nQ 25.25 74.21875 29.59375 74.21875 \nQ 40.828125 74.21875 47.359375 69.109375 \nQ 53.90625 64.015625 53.90625 55.328125 \nQ 53.90625 49.265625 50.4375 45.09375 \nQ 46.96875 40.921875 40.578125 39.3125 \nz\n\" id=\"DejaVuSans-51\"/>\n       <path d=\"M 52 44.1875 \nQ 55.375 50.25 60.0625 53.125 \nQ 64.75 56 71.09375 56 \nQ 79.640625 56 84.28125 50.015625 \nQ 88.921875 44.046875 88.921875 33.015625 \nL 88.921875 0 \nL 79.890625 0 \nL 79.890625 32.71875 \nQ 79.890625 40.578125 77.09375 44.375 \nQ 74.3125 48.1875 68.609375 48.1875 \nQ 61.625 48.1875 57.5625 43.546875 \nQ 53.515625 38.921875 53.515625 30.90625 \nL 53.515625 0 \nL 44.484375 0 \nL 44.484375 32.71875 \nQ 44.484375 40.625 41.703125 44.40625 \nQ 38.921875 48.1875 33.109375 48.1875 \nQ 26.21875 48.1875 22.15625 43.53125 \nQ 18.109375 38.875 18.109375 30.90625 \nL 18.109375 0 \nL 9.078125 0 \nL 9.078125 54.6875 \nL 18.109375 54.6875 \nL 18.109375 46.1875 \nQ 21.1875 51.21875 25.484375 53.609375 \nQ 29.78125 56 35.6875 56 \nQ 41.65625 56 45.828125 52.96875 \nQ 50 49.953125 52 44.1875 \nz\n\" id=\"DejaVuSans-109\"/>\n      </defs>\n      <g style=\"fill:#444443;\" transform=\"translate(99.751563 26.86194)scale(0.1 -0.1)\">\n       <use xlink:href=\"#DejaVuSans-101\"/>\n       <use x=\"61.523438\" xlink:href=\"#DejaVuSans-117\"/>\n       <use x=\"124.902344\" xlink:href=\"#DejaVuSans-114\"/>\n       <use x=\"166.015625\" xlink:href=\"#DejaVuSans-105\"/>\n       <use x=\"193.798828\" xlink:href=\"#DejaVuSans-98\"/>\n       <use x=\"257.275391\" xlink:href=\"#DejaVuSans-111\"/>\n       <use x=\"318.457031\" xlink:href=\"#DejaVuSans-114\"/>\n       <use x=\"359.570312\" xlink:href=\"#DejaVuSans-51\"/>\n       <use x=\"423.193359\" xlink:href=\"#DejaVuSans-109\"/>\n      </g>\n     </g>\n    </g>\n    <g id=\"ytick_3\">\n     <g id=\"line2d_6\">\n      <g>\n       <use style=\"stroke:#000000;stroke-width:0.8;\" x=\"158.8125\" xlink:href=\"#m8f7422acf6\" y=\"37.985659\"/>\n      </g>\n     </g>\n     <g id=\"text_6\">\n      <!-- emp.var.rate -->\n      <defs>\n       <path d=\"M 18.109375 8.203125 \nL 18.109375 -20.796875 \nL 9.078125 -20.796875 \nL 9.078125 54.6875 \nL 18.109375 54.6875 \nL 18.109375 46.390625 \nQ 20.953125 51.265625 25.265625 53.625 \nQ 29.59375 56 35.59375 56 \nQ 45.5625 56 51.78125 48.09375 \nQ 58.015625 40.1875 58.015625 27.296875 \nQ 58.015625 14.40625 51.78125 6.484375 \nQ 45.5625 -1.421875 35.59375 -1.421875 \nQ 29.59375 -1.421875 25.265625 0.953125 \nQ 20.953125 3.328125 18.109375 8.203125 \nz\nM 48.6875 27.296875 \nQ 48.6875 37.203125 44.609375 42.84375 \nQ 40.53125 48.484375 33.40625 48.484375 \nQ 26.265625 48.484375 22.1875 42.84375 \nQ 18.109375 37.203125 18.109375 27.296875 \nQ 18.109375 17.390625 22.1875 11.75 \nQ 26.265625 6.109375 33.40625 6.109375 \nQ 40.53125 6.109375 44.609375 11.75 \nQ 48.6875 17.390625 48.6875 27.296875 \nz\n\" id=\"DejaVuSans-112\"/>\n       <path d=\"M 2.984375 54.6875 \nL 12.5 54.6875 \nL 29.59375 8.796875 \nL 46.6875 54.6875 \nL 56.203125 54.6875 \nL 35.6875 0 \nL 23.484375 0 \nz\n\" id=\"DejaVuSans-118\"/>\n      </defs>\n      <g style=\"fill:#444443;\" transform=\"translate(87.65625 41.784877)scale(0.1 -0.1)\">\n       <use xlink:href=\"#DejaVuSans-101\"/>\n       <use x=\"61.523438\" xlink:href=\"#DejaVuSans-109\"/>\n       <use x=\"158.935547\" xlink:href=\"#DejaVuSans-112\"/>\n       <use x=\"222.412109\" xlink:href=\"#DejaVuSans-46\"/>\n       <use x=\"254.199219\" xlink:href=\"#DejaVuSans-118\"/>\n       <use x=\"313.378906\" xlink:href=\"#DejaVuSans-97\"/>\n       <use x=\"374.658203\" xlink:href=\"#DejaVuSans-114\"/>\n       <use x=\"406.646484\" xlink:href=\"#DejaVuSans-46\"/>\n       <use x=\"438.433594\" xlink:href=\"#DejaVuSans-114\"/>\n       <use x=\"479.546875\" xlink:href=\"#DejaVuSans-97\"/>\n       <use x=\"540.826172\" xlink:href=\"#DejaVuSans-116\"/>\n       <use x=\"580.035156\" xlink:href=\"#DejaVuSans-101\"/>\n      </g>\n     </g>\n    </g>\n    <g id=\"ytick_4\">\n     <g id=\"line2d_7\">\n      <g>\n       <use style=\"stroke:#000000;stroke-width:0.8;\" x=\"158.8125\" xlink:href=\"#m8f7422acf6\" y=\"52.908596\"/>\n      </g>\n     </g>\n     <g id=\"text_7\">\n      <!-- nr.employed -->\n      <defs>\n       <path d=\"M 9.421875 75.984375 \nL 18.40625 75.984375 \nL 18.40625 0 \nL 9.421875 0 \nz\n\" id=\"DejaVuSans-108\"/>\n       <path d=\"M 32.171875 -5.078125 \nQ 28.375 -14.84375 24.75 -17.8125 \nQ 21.140625 -20.796875 15.09375 -20.796875 \nL 7.90625 -20.796875 \nL 7.90625 -13.28125 \nL 13.1875 -13.28125 \nQ 16.890625 -13.28125 18.9375 -11.515625 \nQ 21 -9.765625 23.484375 -3.21875 \nL 25.09375 0.875 \nL 2.984375 54.6875 \nL 12.5 54.6875 \nL 29.59375 11.921875 \nL 46.6875 54.6875 \nL 56.203125 54.6875 \nz\n\" id=\"DejaVuSans-121\"/>\n      </defs>\n      <g style=\"fill:#444443;\" transform=\"translate(89.539062 56.707815)scale(0.1 -0.1)\">\n       <use xlink:href=\"#DejaVuSans-110\"/>\n       <use x=\"63.378906\" xlink:href=\"#DejaVuSans-114\"/>\n       <use x=\"95.367188\" xlink:href=\"#DejaVuSans-46\"/>\n       <use x=\"127.154297\" xlink:href=\"#DejaVuSans-101\"/>\n       <use x=\"188.677734\" xlink:href=\"#DejaVuSans-109\"/>\n       <use x=\"286.089844\" xlink:href=\"#DejaVuSans-112\"/>\n       <use x=\"349.566406\" xlink:href=\"#DejaVuSans-108\"/>\n       <use x=\"377.349609\" xlink:href=\"#DejaVuSans-111\"/>\n       <use x=\"438.53125\" xlink:href=\"#DejaVuSans-121\"/>\n       <use x=\"497.710938\" xlink:href=\"#DejaVuSans-101\"/>\n       <use x=\"559.234375\" xlink:href=\"#DejaVuSans-100\"/>\n      </g>\n     </g>\n    </g>\n    <g id=\"ytick_5\">\n     <g id=\"line2d_8\">\n      <g>\n       <use style=\"stroke:#000000;stroke-width:0.8;\" x=\"158.8125\" xlink:href=\"#m8f7422acf6\" y=\"67.831533\"/>\n      </g>\n     </g>\n     <g id=\"text_8\">\n      <!-- age -->\n      <defs>\n       <path d=\"M 45.40625 27.984375 \nQ 45.40625 37.75 41.375 43.109375 \nQ 37.359375 48.484375 30.078125 48.484375 \nQ 22.859375 48.484375 18.828125 43.109375 \nQ 14.796875 37.75 14.796875 27.984375 \nQ 14.796875 18.265625 18.828125 12.890625 \nQ 22.859375 7.515625 30.078125 7.515625 \nQ 37.359375 7.515625 41.375 12.890625 \nQ 45.40625 18.265625 45.40625 27.984375 \nz\nM 54.390625 6.78125 \nQ 54.390625 -7.171875 48.1875 -13.984375 \nQ 42 -20.796875 29.203125 -20.796875 \nQ 24.46875 -20.796875 20.265625 -20.09375 \nQ 16.0625 -19.390625 12.109375 -17.921875 \nL 12.109375 -9.1875 \nQ 16.0625 -11.328125 19.921875 -12.34375 \nQ 23.78125 -13.375 27.78125 -13.375 \nQ 36.625 -13.375 41.015625 -8.765625 \nQ 45.40625 -4.15625 45.40625 5.171875 \nL 45.40625 9.625 \nQ 42.625 4.78125 38.28125 2.390625 \nQ 33.9375 0 27.875 0 \nQ 17.828125 0 11.671875 7.65625 \nQ 5.515625 15.328125 5.515625 27.984375 \nQ 5.515625 40.671875 11.671875 48.328125 \nQ 17.828125 56 27.875 56 \nQ 33.9375 56 38.28125 53.609375 \nQ 42.625 51.21875 45.40625 46.390625 \nL 45.40625 54.6875 \nL 54.390625 54.6875 \nz\n\" id=\"DejaVuSans-103\"/>\n      </defs>\n      <g style=\"fill:#444443;\" transform=\"translate(133.182813 71.630752)scale(0.1 -0.1)\">\n       <use xlink:href=\"#DejaVuSans-97\"/>\n       <use x=\"61.279297\" xlink:href=\"#DejaVuSans-103\"/>\n       <use x=\"124.755859\" xlink:href=\"#DejaVuSans-101\"/>\n      </g>\n     </g>\n    </g>\n    <g id=\"ytick_6\">\n     <g id=\"line2d_9\">\n      <g>\n       <use style=\"stroke:#000000;stroke-width:0.8;\" x=\"158.8125\" xlink:href=\"#m8f7422acf6\" y=\"82.754471\"/>\n      </g>\n     </g>\n     <g id=\"text_9\">\n      <!-- campaign -->\n      <defs>\n       <path d=\"M 48.78125 52.59375 \nL 48.78125 44.1875 \nQ 44.96875 46.296875 41.140625 47.34375 \nQ 37.3125 48.390625 33.40625 48.390625 \nQ 24.65625 48.390625 19.8125 42.84375 \nQ 14.984375 37.3125 14.984375 27.296875 \nQ 14.984375 17.28125 19.8125 11.734375 \nQ 24.65625 6.203125 33.40625 6.203125 \nQ 37.3125 6.203125 41.140625 7.25 \nQ 44.96875 8.296875 48.78125 10.40625 \nL 48.78125 2.09375 \nQ 45.015625 0.34375 40.984375 -0.53125 \nQ 36.96875 -1.421875 32.421875 -1.421875 \nQ 20.0625 -1.421875 12.78125 6.34375 \nQ 5.515625 14.109375 5.515625 27.296875 \nQ 5.515625 40.671875 12.859375 48.328125 \nQ 20.21875 56 33.015625 56 \nQ 37.15625 56 41.109375 55.140625 \nQ 45.0625 54.296875 48.78125 52.59375 \nz\n\" id=\"DejaVuSans-99\"/>\n      </defs>\n      <g style=\"fill:#444443;\" transform=\"translate(102.504687 86.55369)scale(0.1 -0.1)\">\n       <use xlink:href=\"#DejaVuSans-99\"/>\n       <use x=\"54.980469\" xlink:href=\"#DejaVuSans-97\"/>\n       <use x=\"116.259766\" xlink:href=\"#DejaVuSans-109\"/>\n       <use x=\"213.671875\" xlink:href=\"#DejaVuSans-112\"/>\n       <use x=\"277.148438\" xlink:href=\"#DejaVuSans-97\"/>\n       <use x=\"338.427734\" xlink:href=\"#DejaVuSans-105\"/>\n       <use x=\"366.210938\" xlink:href=\"#DejaVuSans-103\"/>\n       <use x=\"429.6875\" xlink:href=\"#DejaVuSans-110\"/>\n      </g>\n     </g>\n    </g>\n    <g id=\"ytick_7\">\n     <g id=\"line2d_10\">\n      <g>\n       <use style=\"stroke:#000000;stroke-width:0.8;\" x=\"158.8125\" xlink:href=\"#m8f7422acf6\" y=\"97.677408\"/>\n      </g>\n     </g>\n     <g id=\"text_10\">\n      <!-- job_technician -->\n      <defs>\n       <path d=\"M 9.421875 54.6875 \nL 18.40625 54.6875 \nL 18.40625 -0.984375 \nQ 18.40625 -11.421875 14.421875 -16.109375 \nQ 10.453125 -20.796875 1.609375 -20.796875 \nL -1.8125 -20.796875 \nL -1.8125 -13.1875 \nL 0.59375 -13.1875 \nQ 5.71875 -13.1875 7.5625 -10.8125 \nQ 9.421875 -8.453125 9.421875 -0.984375 \nz\nM 9.421875 75.984375 \nL 18.40625 75.984375 \nL 18.40625 64.59375 \nL 9.421875 64.59375 \nz\n\" id=\"DejaVuSans-106\"/>\n       <path d=\"M 50.984375 -16.609375 \nL 50.984375 -23.578125 \nL -0.984375 -23.578125 \nL -0.984375 -16.609375 \nz\n\" id=\"DejaVuSans-95\"/>\n       <path d=\"M 54.890625 33.015625 \nL 54.890625 0 \nL 45.90625 0 \nL 45.90625 32.71875 \nQ 45.90625 40.484375 42.875 44.328125 \nQ 39.84375 48.1875 33.796875 48.1875 \nQ 26.515625 48.1875 22.3125 43.546875 \nQ 18.109375 38.921875 18.109375 30.90625 \nL 18.109375 0 \nL 9.078125 0 \nL 9.078125 75.984375 \nL 18.109375 75.984375 \nL 18.109375 46.1875 \nQ 21.34375 51.125 25.703125 53.5625 \nQ 30.078125 56 35.796875 56 \nQ 45.21875 56 50.046875 50.171875 \nQ 54.890625 44.34375 54.890625 33.015625 \nz\n\" id=\"DejaVuSans-104\"/>\n      </defs>\n      <g style=\"fill:#444443;\" transform=\"translate(79.8 101.476627)scale(0.1 -0.1)\">\n       <use xlink:href=\"#DejaVuSans-106\"/>\n       <use x=\"27.783203\" xlink:href=\"#DejaVuSans-111\"/>\n       <use x=\"88.964844\" xlink:href=\"#DejaVuSans-98\"/>\n       <use x=\"152.441406\" xlink:href=\"#DejaVuSans-95\"/>\n       <use x=\"202.441406\" xlink:href=\"#DejaVuSans-116\"/>\n       <use x=\"241.650391\" xlink:href=\"#DejaVuSans-101\"/>\n       <use x=\"303.173828\" xlink:href=\"#DejaVuSans-99\"/>\n       <use x=\"358.154297\" xlink:href=\"#DejaVuSans-104\"/>\n       <use x=\"421.533203\" xlink:href=\"#DejaVuSans-110\"/>\n       <use x=\"484.912109\" xlink:href=\"#DejaVuSans-105\"/>\n       <use x=\"512.695312\" xlink:href=\"#DejaVuSans-99\"/>\n       <use x=\"567.675781\" xlink:href=\"#DejaVuSans-105\"/>\n       <use x=\"595.458984\" xlink:href=\"#DejaVuSans-97\"/>\n       <use x=\"656.738281\" xlink:href=\"#DejaVuSans-110\"/>\n      </g>\n     </g>\n    </g>\n    <g id=\"ytick_8\">\n     <g id=\"line2d_11\">\n      <g>\n       <use style=\"stroke:#000000;stroke-width:0.8;\" x=\"158.8125\" xlink:href=\"#m8f7422acf6\" y=\"112.600346\"/>\n      </g>\n     </g>\n     <g id=\"text_11\">\n      <!-- marital_single -->\n      <defs>\n       <path d=\"M 44.28125 53.078125 \nL 44.28125 44.578125 \nQ 40.484375 46.53125 36.375 47.5 \nQ 32.28125 48.484375 27.875 48.484375 \nQ 21.1875 48.484375 17.84375 46.4375 \nQ 14.5 44.390625 14.5 40.28125 \nQ 14.5 37.15625 16.890625 35.375 \nQ 19.28125 33.59375 26.515625 31.984375 \nL 29.59375 31.296875 \nQ 39.15625 29.25 43.1875 25.515625 \nQ 47.21875 21.78125 47.21875 15.09375 \nQ 47.21875 7.46875 41.1875 3.015625 \nQ 35.15625 -1.421875 24.609375 -1.421875 \nQ 20.21875 -1.421875 15.453125 -0.5625 \nQ 10.6875 0.296875 5.421875 2 \nL 5.421875 11.28125 \nQ 10.40625 8.6875 15.234375 7.390625 \nQ 20.0625 6.109375 24.8125 6.109375 \nQ 31.15625 6.109375 34.5625 8.28125 \nQ 37.984375 10.453125 37.984375 14.40625 \nQ 37.984375 18.0625 35.515625 20.015625 \nQ 33.0625 21.96875 24.703125 23.78125 \nL 21.578125 24.515625 \nQ 13.234375 26.265625 9.515625 29.90625 \nQ 5.8125 33.546875 5.8125 39.890625 \nQ 5.8125 47.609375 11.28125 51.796875 \nQ 16.75 56 26.8125 56 \nQ 31.78125 56 36.171875 55.265625 \nQ 40.578125 54.546875 44.28125 53.078125 \nz\n\" id=\"DejaVuSans-115\"/>\n      </defs>\n      <g style=\"fill:#444443;\" transform=\"translate(81.623437 116.399564)scale(0.1 -0.1)\">\n       <use xlink:href=\"#DejaVuSans-109\"/>\n       <use x=\"97.412109\" xlink:href=\"#DejaVuSans-97\"/>\n       <use x=\"158.691406\" xlink:href=\"#DejaVuSans-114\"/>\n       <use x=\"199.804688\" xlink:href=\"#DejaVuSans-105\"/>\n       <use x=\"227.587891\" xlink:href=\"#DejaVuSans-116\"/>\n       <use x=\"266.796875\" xlink:href=\"#DejaVuSans-97\"/>\n       <use x=\"328.076172\" xlink:href=\"#DejaVuSans-108\"/>\n       <use x=\"355.859375\" xlink:href=\"#DejaVuSans-95\"/>\n       <use x=\"405.859375\" xlink:href=\"#DejaVuSans-115\"/>\n       <use x=\"457.958984\" xlink:href=\"#DejaVuSans-105\"/>\n       <use x=\"485.742188\" xlink:href=\"#DejaVuSans-110\"/>\n       <use x=\"549.121094\" xlink:href=\"#DejaVuSans-103\"/>\n       <use x=\"612.597656\" xlink:href=\"#DejaVuSans-108\"/>\n       <use x=\"640.380859\" xlink:href=\"#DejaVuSans-101\"/>\n      </g>\n     </g>\n    </g>\n    <g id=\"ytick_9\">\n     <g id=\"line2d_12\">\n      <g>\n       <use style=\"stroke:#000000;stroke-width:0.8;\" x=\"158.8125\" xlink:href=\"#m8f7422acf6\" y=\"127.523283\"/>\n      </g>\n     </g>\n     <g id=\"text_12\">\n      <!-- loan_yes -->\n      <g style=\"fill:#444443;\" transform=\"translate(108.16875 131.322502)scale(0.1 -0.1)\">\n       <use xlink:href=\"#DejaVuSans-108\"/>\n       <use x=\"27.783203\" xlink:href=\"#DejaVuSans-111\"/>\n       <use x=\"88.964844\" xlink:href=\"#DejaVuSans-97\"/>\n       <use x=\"150.244141\" xlink:href=\"#DejaVuSans-110\"/>\n       <use x=\"213.623047\" xlink:href=\"#DejaVuSans-95\"/>\n       <use x=\"263.623047\" xlink:href=\"#DejaVuSans-121\"/>\n       <use x=\"322.802734\" xlink:href=\"#DejaVuSans-101\"/>\n       <use x=\"384.326172\" xlink:href=\"#DejaVuSans-115\"/>\n      </g>\n     </g>\n    </g>\n    <g id=\"ytick_10\">\n     <g id=\"line2d_13\">\n      <g>\n       <use style=\"stroke:#000000;stroke-width:0.8;\" x=\"158.8125\" xlink:href=\"#m8f7422acf6\" y=\"142.44622\"/>\n      </g>\n     </g>\n     <g id=\"text_13\">\n      <!-- job_management -->\n      <g style=\"fill:#444443;\" transform=\"translate(64.579687 146.245439)scale(0.1 -0.1)\">\n       <use xlink:href=\"#DejaVuSans-106\"/>\n       <use x=\"27.783203\" xlink:href=\"#DejaVuSans-111\"/>\n       <use x=\"88.964844\" xlink:href=\"#DejaVuSans-98\"/>\n       <use x=\"152.441406\" xlink:href=\"#DejaVuSans-95\"/>\n       <use x=\"202.441406\" xlink:href=\"#DejaVuSans-109\"/>\n       <use x=\"299.853516\" xlink:href=\"#DejaVuSans-97\"/>\n       <use x=\"361.132812\" xlink:href=\"#DejaVuSans-110\"/>\n       <use x=\"424.511719\" xlink:href=\"#DejaVuSans-97\"/>\n       <use x=\"485.791016\" xlink:href=\"#DejaVuSans-103\"/>\n       <use x=\"549.267578\" xlink:href=\"#DejaVuSans-101\"/>\n       <use x=\"610.791016\" xlink:href=\"#DejaVuSans-109\"/>\n       <use x=\"708.203125\" xlink:href=\"#DejaVuSans-101\"/>\n       <use x=\"769.726562\" xlink:href=\"#DejaVuSans-110\"/>\n       <use x=\"833.105469\" xlink:href=\"#DejaVuSans-116\"/>\n      </g>\n     </g>\n    </g>\n    <g id=\"ytick_11\">\n     <g id=\"line2d_14\">\n      <g>\n       <use style=\"stroke:#000000;stroke-width:0.8;\" x=\"158.8125\" xlink:href=\"#m8f7422acf6\" y=\"157.369158\"/>\n      </g>\n     </g>\n     <g id=\"text_14\">\n      <!-- poutcome_nonexistent -->\n      <defs>\n       <path d=\"M 54.890625 54.6875 \nL 35.109375 28.078125 \nL 55.90625 0 \nL 45.3125 0 \nL 29.390625 21.484375 \nL 13.484375 0 \nL 2.875 0 \nL 24.125 28.609375 \nL 4.6875 54.6875 \nL 15.28125 54.6875 \nL 29.78125 35.203125 \nL 44.28125 54.6875 \nz\n\" id=\"DejaVuSans-120\"/>\n      </defs>\n      <g style=\"fill:#444443;\" transform=\"translate(37.567187 161.168376)scale(0.1 -0.1)\">\n       <use xlink:href=\"#DejaVuSans-112\"/>\n       <use x=\"63.476562\" xlink:href=\"#DejaVuSans-111\"/>\n       <use x=\"124.658203\" xlink:href=\"#DejaVuSans-117\"/>\n       <use x=\"188.037109\" xlink:href=\"#DejaVuSans-116\"/>\n       <use x=\"227.246094\" xlink:href=\"#DejaVuSans-99\"/>\n       <use x=\"282.226562\" xlink:href=\"#DejaVuSans-111\"/>\n       <use x=\"343.408203\" xlink:href=\"#DejaVuSans-109\"/>\n       <use x=\"440.820312\" xlink:href=\"#DejaVuSans-101\"/>\n       <use x=\"502.34375\" xlink:href=\"#DejaVuSans-95\"/>\n       <use x=\"552.34375\" xlink:href=\"#DejaVuSans-110\"/>\n       <use x=\"615.722656\" xlink:href=\"#DejaVuSans-111\"/>\n       <use x=\"676.904297\" xlink:href=\"#DejaVuSans-110\"/>\n       <use x=\"740.283203\" xlink:href=\"#DejaVuSans-101\"/>\n       <use x=\"800.056641\" xlink:href=\"#DejaVuSans-120\"/>\n       <use x=\"859.236328\" xlink:href=\"#DejaVuSans-105\"/>\n       <use x=\"887.019531\" xlink:href=\"#DejaVuSans-115\"/>\n       <use x=\"939.119141\" xlink:href=\"#DejaVuSans-116\"/>\n       <use x=\"978.328125\" xlink:href=\"#DejaVuSans-101\"/>\n       <use x=\"1039.851562\" xlink:href=\"#DejaVuSans-110\"/>\n       <use x=\"1103.230469\" xlink:href=\"#DejaVuSans-116\"/>\n      </g>\n     </g>\n    </g>\n    <g id=\"ytick_12\">\n     <g id=\"line2d_15\">\n      <g>\n       <use style=\"stroke:#000000;stroke-width:0.8;\" x=\"158.8125\" xlink:href=\"#m8f7422acf6\" y=\"172.292095\"/>\n      </g>\n     </g>\n     <g id=\"text_15\">\n      <!-- education_professional.course -->\n      <defs>\n       <path d=\"M 37.109375 75.984375 \nL 37.109375 68.5 \nL 28.515625 68.5 \nQ 23.6875 68.5 21.796875 66.546875 \nQ 19.921875 64.59375 19.921875 59.515625 \nL 19.921875 54.6875 \nL 34.71875 54.6875 \nL 34.71875 47.703125 \nL 19.921875 47.703125 \nL 19.921875 0 \nL 10.890625 0 \nL 10.890625 47.703125 \nL 2.296875 47.703125 \nL 2.296875 54.6875 \nL 10.890625 54.6875 \nL 10.890625 58.5 \nQ 10.890625 67.625 15.140625 71.796875 \nQ 19.390625 75.984375 28.609375 75.984375 \nz\n\" id=\"DejaVuSans-102\"/>\n      </defs>\n      <g style=\"fill:#444443;\" transform=\"translate(0 176.091314)scale(0.1 -0.1)\">\n       <use xlink:href=\"#DejaVuSans-101\"/>\n       <use x=\"61.523438\" xlink:href=\"#DejaVuSans-100\"/>\n       <use x=\"125\" xlink:href=\"#DejaVuSans-117\"/>\n       <use x=\"188.378906\" xlink:href=\"#DejaVuSans-99\"/>\n       <use x=\"243.359375\" xlink:href=\"#DejaVuSans-97\"/>\n       <use x=\"304.638672\" xlink:href=\"#DejaVuSans-116\"/>\n       <use x=\"343.847656\" xlink:href=\"#DejaVuSans-105\"/>\n       <use x=\"371.630859\" xlink:href=\"#DejaVuSans-111\"/>\n       <use x=\"432.8125\" xlink:href=\"#DejaVuSans-110\"/>\n       <use x=\"496.191406\" xlink:href=\"#DejaVuSans-95\"/>\n       <use x=\"546.191406\" xlink:href=\"#DejaVuSans-112\"/>\n       <use x=\"609.667969\" xlink:href=\"#DejaVuSans-114\"/>\n       <use x=\"648.53125\" xlink:href=\"#DejaVuSans-111\"/>\n       <use x=\"709.712891\" xlink:href=\"#DejaVuSans-102\"/>\n       <use x=\"744.917969\" xlink:href=\"#DejaVuSans-101\"/>\n       <use x=\"806.441406\" xlink:href=\"#DejaVuSans-115\"/>\n       <use x=\"858.541016\" xlink:href=\"#DejaVuSans-115\"/>\n       <use x=\"910.640625\" xlink:href=\"#DejaVuSans-105\"/>\n       <use x=\"938.423828\" xlink:href=\"#DejaVuSans-111\"/>\n       <use x=\"999.605469\" xlink:href=\"#DejaVuSans-110\"/>\n       <use x=\"1062.984375\" xlink:href=\"#DejaVuSans-97\"/>\n       <use x=\"1124.263672\" xlink:href=\"#DejaVuSans-108\"/>\n       <use x=\"1152.046875\" xlink:href=\"#DejaVuSans-46\"/>\n       <use x=\"1183.833984\" xlink:href=\"#DejaVuSans-99\"/>\n       <use x=\"1238.814453\" xlink:href=\"#DejaVuSans-111\"/>\n       <use x=\"1299.996094\" xlink:href=\"#DejaVuSans-117\"/>\n       <use x=\"1363.375\" xlink:href=\"#DejaVuSans-114\"/>\n       <use x=\"1404.488281\" xlink:href=\"#DejaVuSans-115\"/>\n       <use x=\"1456.587891\" xlink:href=\"#DejaVuSans-101\"/>\n      </g>\n     </g>\n    </g>\n    <g id=\"ytick_13\">\n     <g id=\"line2d_16\">\n      <g>\n       <use style=\"stroke:#000000;stroke-width:0.8;\" x=\"158.8125\" xlink:href=\"#m8f7422acf6\" y=\"187.215032\"/>\n      </g>\n     </g>\n     <g id=\"text_16\">\n      <!-- pdays -->\n      <g style=\"fill:#444443;\" transform=\"translate(121.859375 191.014251)scale(0.1 -0.1)\">\n       <use xlink:href=\"#DejaVuSans-112\"/>\n       <use x=\"63.476562\" xlink:href=\"#DejaVuSans-100\"/>\n       <use x=\"126.953125\" xlink:href=\"#DejaVuSans-97\"/>\n       <use x=\"188.232422\" xlink:href=\"#DejaVuSans-121\"/>\n       <use x=\"247.412109\" xlink:href=\"#DejaVuSans-115\"/>\n      </g>\n     </g>\n    </g>\n    <g id=\"ytick_14\">\n     <g id=\"line2d_17\">\n      <g>\n       <use style=\"stroke:#000000;stroke-width:0.8;\" x=\"158.8125\" xlink:href=\"#m8f7422acf6\" y=\"202.13797\"/>\n      </g>\n     </g>\n     <g id=\"text_17\">\n      <!-- education_university.degree -->\n      <g style=\"fill:#444443;\" transform=\"translate(10.934375 205.937189)scale(0.1 -0.1)\">\n       <use xlink:href=\"#DejaVuSans-101\"/>\n       <use x=\"61.523438\" xlink:href=\"#DejaVuSans-100\"/>\n       <use x=\"125\" xlink:href=\"#DejaVuSans-117\"/>\n       <use x=\"188.378906\" xlink:href=\"#DejaVuSans-99\"/>\n       <use x=\"243.359375\" xlink:href=\"#DejaVuSans-97\"/>\n       <use x=\"304.638672\" xlink:href=\"#DejaVuSans-116\"/>\n       <use x=\"343.847656\" xlink:href=\"#DejaVuSans-105\"/>\n       <use x=\"371.630859\" xlink:href=\"#DejaVuSans-111\"/>\n       <use x=\"432.8125\" xlink:href=\"#DejaVuSans-110\"/>\n       <use x=\"496.191406\" xlink:href=\"#DejaVuSans-95\"/>\n       <use x=\"546.191406\" xlink:href=\"#DejaVuSans-117\"/>\n       <use x=\"609.570312\" xlink:href=\"#DejaVuSans-110\"/>\n       <use x=\"672.949219\" xlink:href=\"#DejaVuSans-105\"/>\n       <use x=\"700.732422\" xlink:href=\"#DejaVuSans-118\"/>\n       <use x=\"759.912109\" xlink:href=\"#DejaVuSans-101\"/>\n       <use x=\"821.435547\" xlink:href=\"#DejaVuSans-114\"/>\n       <use x=\"862.548828\" xlink:href=\"#DejaVuSans-115\"/>\n       <use x=\"914.648438\" xlink:href=\"#DejaVuSans-105\"/>\n       <use x=\"942.431641\" xlink:href=\"#DejaVuSans-116\"/>\n       <use x=\"981.640625\" xlink:href=\"#DejaVuSans-121\"/>\n       <use x=\"1026.570312\" xlink:href=\"#DejaVuSans-46\"/>\n       <use x=\"1058.357422\" xlink:href=\"#DejaVuSans-100\"/>\n       <use x=\"1121.833984\" xlink:href=\"#DejaVuSans-101\"/>\n       <use x=\"1183.357422\" xlink:href=\"#DejaVuSans-103\"/>\n       <use x=\"1246.833984\" xlink:href=\"#DejaVuSans-114\"/>\n       <use x=\"1285.697266\" xlink:href=\"#DejaVuSans-101\"/>\n       <use x=\"1347.220703\" xlink:href=\"#DejaVuSans-101\"/>\n      </g>\n     </g>\n    </g>\n    <g id=\"ytick_15\">\n     <g id=\"line2d_18\">\n      <g>\n       <use style=\"stroke:#000000;stroke-width:0.8;\" x=\"158.8125\" xlink:href=\"#m8f7422acf6\" y=\"217.060907\"/>\n      </g>\n     </g>\n     <g id=\"text_18\">\n      <!-- education_basic.9y -->\n      <defs>\n       <path d=\"M 10.984375 1.515625 \nL 10.984375 10.5 \nQ 14.703125 8.734375 18.5 7.8125 \nQ 22.3125 6.890625 25.984375 6.890625 \nQ 35.75 6.890625 40.890625 13.453125 \nQ 46.046875 20.015625 46.78125 33.40625 \nQ 43.953125 29.203125 39.59375 26.953125 \nQ 35.25 24.703125 29.984375 24.703125 \nQ 19.046875 24.703125 12.671875 31.3125 \nQ 6.296875 37.9375 6.296875 49.421875 \nQ 6.296875 60.640625 12.9375 67.421875 \nQ 19.578125 74.21875 30.609375 74.21875 \nQ 43.265625 74.21875 49.921875 64.515625 \nQ 56.59375 54.828125 56.59375 36.375 \nQ 56.59375 19.140625 48.40625 8.859375 \nQ 40.234375 -1.421875 26.421875 -1.421875 \nQ 22.703125 -1.421875 18.890625 -0.6875 \nQ 15.09375 0.046875 10.984375 1.515625 \nz\nM 30.609375 32.421875 \nQ 37.25 32.421875 41.125 36.953125 \nQ 45.015625 41.5 45.015625 49.421875 \nQ 45.015625 57.28125 41.125 61.84375 \nQ 37.25 66.40625 30.609375 66.40625 \nQ 23.96875 66.40625 20.09375 61.84375 \nQ 16.21875 57.28125 16.21875 49.421875 \nQ 16.21875 41.5 20.09375 36.953125 \nQ 23.96875 32.421875 30.609375 32.421875 \nz\n\" id=\"DejaVuSans-57\"/>\n      </defs>\n      <g style=\"fill:#444443;\" transform=\"translate(55.770312 220.860126)scale(0.1 -0.1)\">\n       <use xlink:href=\"#DejaVuSans-101\"/>\n       <use x=\"61.523438\" xlink:href=\"#DejaVuSans-100\"/>\n       <use x=\"125\" xlink:href=\"#DejaVuSans-117\"/>\n       <use x=\"188.378906\" xlink:href=\"#DejaVuSans-99\"/>\n       <use x=\"243.359375\" xlink:href=\"#DejaVuSans-97\"/>\n       <use x=\"304.638672\" xlink:href=\"#DejaVuSans-116\"/>\n       <use x=\"343.847656\" xlink:href=\"#DejaVuSans-105\"/>\n       <use x=\"371.630859\" xlink:href=\"#DejaVuSans-111\"/>\n       <use x=\"432.8125\" xlink:href=\"#DejaVuSans-110\"/>\n       <use x=\"496.191406\" xlink:href=\"#DejaVuSans-95\"/>\n       <use x=\"546.191406\" xlink:href=\"#DejaVuSans-98\"/>\n       <use x=\"609.667969\" xlink:href=\"#DejaVuSans-97\"/>\n       <use x=\"670.947266\" xlink:href=\"#DejaVuSans-115\"/>\n       <use x=\"723.046875\" xlink:href=\"#DejaVuSans-105\"/>\n       <use x=\"750.830078\" xlink:href=\"#DejaVuSans-99\"/>\n       <use x=\"805.810547\" xlink:href=\"#DejaVuSans-46\"/>\n       <use x=\"837.597656\" xlink:href=\"#DejaVuSans-57\"/>\n       <use x=\"901.220703\" xlink:href=\"#DejaVuSans-121\"/>\n      </g>\n     </g>\n    </g>\n    <g id=\"ytick_16\">\n     <g id=\"line2d_19\">\n      <g>\n       <use style=\"stroke:#000000;stroke-width:0.8;\" x=\"158.8125\" xlink:href=\"#m8f7422acf6\" y=\"231.983844\"/>\n      </g>\n     </g>\n     <g id=\"text_19\">\n      <!-- job_blue-collar -->\n      <defs>\n       <path d=\"M 4.890625 31.390625 \nL 31.203125 31.390625 \nL 31.203125 23.390625 \nL 4.890625 23.390625 \nz\n\" id=\"DejaVuSans-45\"/>\n      </defs>\n      <g style=\"fill:#444443;\" transform=\"translate(78.929688 235.783063)scale(0.1 -0.1)\">\n       <use xlink:href=\"#DejaVuSans-106\"/>\n       <use x=\"27.783203\" xlink:href=\"#DejaVuSans-111\"/>\n       <use x=\"88.964844\" xlink:href=\"#DejaVuSans-98\"/>\n       <use x=\"152.441406\" xlink:href=\"#DejaVuSans-95\"/>\n       <use x=\"202.441406\" xlink:href=\"#DejaVuSans-98\"/>\n       <use x=\"265.917969\" xlink:href=\"#DejaVuSans-108\"/>\n       <use x=\"293.701172\" xlink:href=\"#DejaVuSans-117\"/>\n       <use x=\"357.080078\" xlink:href=\"#DejaVuSans-101\"/>\n       <use x=\"418.603516\" xlink:href=\"#DejaVuSans-45\"/>\n       <use x=\"454.6875\" xlink:href=\"#DejaVuSans-99\"/>\n       <use x=\"509.667969\" xlink:href=\"#DejaVuSans-111\"/>\n       <use x=\"570.849609\" xlink:href=\"#DejaVuSans-108\"/>\n       <use x=\"598.632812\" xlink:href=\"#DejaVuSans-108\"/>\n       <use x=\"626.416016\" xlink:href=\"#DejaVuSans-97\"/>\n       <use x=\"687.695312\" xlink:href=\"#DejaVuSans-114\"/>\n      </g>\n     </g>\n    </g>\n    <g id=\"ytick_17\">\n     <g id=\"line2d_20\">\n      <g>\n       <use style=\"stroke:#000000;stroke-width:0.8;\" x=\"158.8125\" xlink:href=\"#m8f7422acf6\" y=\"246.906782\"/>\n      </g>\n     </g>\n     <g id=\"text_20\">\n      <!-- housing_yes -->\n      <g style=\"fill:#444443;\" transform=\"translate(90.064063 250.706001)scale(0.1 -0.1)\">\n       <use xlink:href=\"#DejaVuSans-104\"/>\n       <use x=\"63.378906\" xlink:href=\"#DejaVuSans-111\"/>\n       <use x=\"124.560547\" xlink:href=\"#DejaVuSans-117\"/>\n       <use x=\"187.939453\" xlink:href=\"#DejaVuSans-115\"/>\n       <use x=\"240.039062\" xlink:href=\"#DejaVuSans-105\"/>\n       <use x=\"267.822266\" xlink:href=\"#DejaVuSans-110\"/>\n       <use x=\"331.201172\" xlink:href=\"#DejaVuSans-103\"/>\n       <use x=\"394.677734\" xlink:href=\"#DejaVuSans-95\"/>\n       <use x=\"444.677734\" xlink:href=\"#DejaVuSans-121\"/>\n       <use x=\"503.857422\" xlink:href=\"#DejaVuSans-101\"/>\n       <use x=\"565.380859\" xlink:href=\"#DejaVuSans-115\"/>\n      </g>\n     </g>\n    </g>\n    <g id=\"ytick_18\">\n     <g id=\"line2d_21\">\n      <g>\n       <use style=\"stroke:#000000;stroke-width:0.8;\" x=\"158.8125\" xlink:href=\"#m8f7422acf6\" y=\"261.829719\"/>\n      </g>\n     </g>\n     <g id=\"text_21\">\n      <!-- job_student -->\n      <g style=\"fill:#444443;\" transform=\"translate(93.340625 265.628938)scale(0.1 -0.1)\">\n       <use xlink:href=\"#DejaVuSans-106\"/>\n       <use x=\"27.783203\" xlink:href=\"#DejaVuSans-111\"/>\n       <use x=\"88.964844\" xlink:href=\"#DejaVuSans-98\"/>\n       <use x=\"152.441406\" xlink:href=\"#DejaVuSans-95\"/>\n       <use x=\"202.441406\" xlink:href=\"#DejaVuSans-115\"/>\n       <use x=\"254.541016\" xlink:href=\"#DejaVuSans-116\"/>\n       <use x=\"293.75\" xlink:href=\"#DejaVuSans-117\"/>\n       <use x=\"357.128906\" xlink:href=\"#DejaVuSans-100\"/>\n       <use x=\"420.605469\" xlink:href=\"#DejaVuSans-101\"/>\n       <use x=\"482.128906\" xlink:href=\"#DejaVuSans-110\"/>\n       <use x=\"545.507812\" xlink:href=\"#DejaVuSans-116\"/>\n      </g>\n     </g>\n    </g>\n    <g id=\"ytick_19\">\n     <g id=\"line2d_22\">\n      <g>\n       <use style=\"stroke:#000000;stroke-width:0.8;\" x=\"158.8125\" xlink:href=\"#m8f7422acf6\" y=\"276.752657\"/>\n      </g>\n     </g>\n     <g id=\"text_22\">\n      <!-- job_self-employed -->\n      <g style=\"fill:#444443;\" transform=\"translate(61.289062 280.551875)scale(0.1 -0.1)\">\n       <use xlink:href=\"#DejaVuSans-106\"/>\n       <use x=\"27.783203\" xlink:href=\"#DejaVuSans-111\"/>\n       <use x=\"88.964844\" xlink:href=\"#DejaVuSans-98\"/>\n       <use x=\"152.441406\" xlink:href=\"#DejaVuSans-95\"/>\n       <use x=\"202.441406\" xlink:href=\"#DejaVuSans-115\"/>\n       <use x=\"254.541016\" xlink:href=\"#DejaVuSans-101\"/>\n       <use x=\"316.064453\" xlink:href=\"#DejaVuSans-108\"/>\n       <use x=\"343.847656\" xlink:href=\"#DejaVuSans-102\"/>\n       <use x=\"373.552734\" xlink:href=\"#DejaVuSans-45\"/>\n       <use x=\"409.636719\" xlink:href=\"#DejaVuSans-101\"/>\n       <use x=\"471.160156\" xlink:href=\"#DejaVuSans-109\"/>\n       <use x=\"568.572266\" xlink:href=\"#DejaVuSans-112\"/>\n       <use x=\"632.048828\" xlink:href=\"#DejaVuSans-108\"/>\n       <use x=\"659.832031\" xlink:href=\"#DejaVuSans-111\"/>\n       <use x=\"721.013672\" xlink:href=\"#DejaVuSans-121\"/>\n       <use x=\"780.193359\" xlink:href=\"#DejaVuSans-101\"/>\n       <use x=\"841.716797\" xlink:href=\"#DejaVuSans-100\"/>\n      </g>\n     </g>\n    </g>\n    <g id=\"ytick_20\">\n     <g id=\"line2d_23\">\n      <g>\n       <use style=\"stroke:#000000;stroke-width:0.8;\" x=\"158.8125\" xlink:href=\"#m8f7422acf6\" y=\"291.675594\"/>\n      </g>\n     </g>\n     <g id=\"text_23\">\n      <!-- job_services -->\n      <g style=\"fill:#444443;\" transform=\"translate(90.535937 295.474813)scale(0.1 -0.1)\">\n       <use xlink:href=\"#DejaVuSans-106\"/>\n       <use x=\"27.783203\" xlink:href=\"#DejaVuSans-111\"/>\n       <use x=\"88.964844\" xlink:href=\"#DejaVuSans-98\"/>\n       <use x=\"152.441406\" xlink:href=\"#DejaVuSans-95\"/>\n       <use x=\"202.441406\" xlink:href=\"#DejaVuSans-115\"/>\n       <use x=\"254.541016\" xlink:href=\"#DejaVuSans-101\"/>\n       <use x=\"316.064453\" xlink:href=\"#DejaVuSans-114\"/>\n       <use x=\"357.177734\" xlink:href=\"#DejaVuSans-118\"/>\n       <use x=\"416.357422\" xlink:href=\"#DejaVuSans-105\"/>\n       <use x=\"444.140625\" xlink:href=\"#DejaVuSans-99\"/>\n       <use x=\"499.121094\" xlink:href=\"#DejaVuSans-101\"/>\n       <use x=\"560.644531\" xlink:href=\"#DejaVuSans-115\"/>\n      </g>\n     </g>\n    </g>\n    <g id=\"ytick_21\">\n     <g id=\"line2d_24\">\n      <g>\n       <use style=\"stroke:#000000;stroke-width:0.8;\" x=\"158.8125\" xlink:href=\"#m8f7422acf6\" y=\"306.598531\"/>\n      </g>\n     </g>\n     <g id=\"text_24\">\n      <!-- education_basic.6y -->\n      <defs>\n       <path d=\"M 33.015625 40.375 \nQ 26.375 40.375 22.484375 35.828125 \nQ 18.609375 31.296875 18.609375 23.390625 \nQ 18.609375 15.53125 22.484375 10.953125 \nQ 26.375 6.390625 33.015625 6.390625 \nQ 39.65625 6.390625 43.53125 10.953125 \nQ 47.40625 15.53125 47.40625 23.390625 \nQ 47.40625 31.296875 43.53125 35.828125 \nQ 39.65625 40.375 33.015625 40.375 \nz\nM 52.59375 71.296875 \nL 52.59375 62.3125 \nQ 48.875 64.0625 45.09375 64.984375 \nQ 41.3125 65.921875 37.59375 65.921875 \nQ 27.828125 65.921875 22.671875 59.328125 \nQ 17.53125 52.734375 16.796875 39.40625 \nQ 19.671875 43.65625 24.015625 45.921875 \nQ 28.375 48.1875 33.59375 48.1875 \nQ 44.578125 48.1875 50.953125 41.515625 \nQ 57.328125 34.859375 57.328125 23.390625 \nQ 57.328125 12.15625 50.6875 5.359375 \nQ 44.046875 -1.421875 33.015625 -1.421875 \nQ 20.359375 -1.421875 13.671875 8.265625 \nQ 6.984375 17.96875 6.984375 36.375 \nQ 6.984375 53.65625 15.1875 63.9375 \nQ 23.390625 74.21875 37.203125 74.21875 \nQ 40.921875 74.21875 44.703125 73.484375 \nQ 48.484375 72.75 52.59375 71.296875 \nz\n\" id=\"DejaVuSans-54\"/>\n      </defs>\n      <g style=\"fill:#444443;\" transform=\"translate(55.770312 310.39775)scale(0.1 -0.1)\">\n       <use xlink:href=\"#DejaVuSans-101\"/>\n       <use x=\"61.523438\" xlink:href=\"#DejaVuSans-100\"/>\n       <use x=\"125\" xlink:href=\"#DejaVuSans-117\"/>\n       <use x=\"188.378906\" xlink:href=\"#DejaVuSans-99\"/>\n       <use x=\"243.359375\" xlink:href=\"#DejaVuSans-97\"/>\n       <use x=\"304.638672\" xlink:href=\"#DejaVuSans-116\"/>\n       <use x=\"343.847656\" xlink:href=\"#DejaVuSans-105\"/>\n       <use x=\"371.630859\" xlink:href=\"#DejaVuSans-111\"/>\n       <use x=\"432.8125\" xlink:href=\"#DejaVuSans-110\"/>\n       <use x=\"496.191406\" xlink:href=\"#DejaVuSans-95\"/>\n       <use x=\"546.191406\" xlink:href=\"#DejaVuSans-98\"/>\n       <use x=\"609.667969\" xlink:href=\"#DejaVuSans-97\"/>\n       <use x=\"670.947266\" xlink:href=\"#DejaVuSans-115\"/>\n       <use x=\"723.046875\" xlink:href=\"#DejaVuSans-105\"/>\n       <use x=\"750.830078\" xlink:href=\"#DejaVuSans-99\"/>\n       <use x=\"805.810547\" xlink:href=\"#DejaVuSans-46\"/>\n       <use x=\"837.597656\" xlink:href=\"#DejaVuSans-54\"/>\n       <use x=\"901.220703\" xlink:href=\"#DejaVuSans-121\"/>\n      </g>\n     </g>\n    </g>\n    <g id=\"ytick_22\">\n     <g id=\"line2d_25\">\n      <g>\n       <use style=\"stroke:#000000;stroke-width:0.8;\" x=\"158.8125\" xlink:href=\"#m8f7422acf6\" y=\"321.521469\"/>\n      </g>\n     </g>\n     <g id=\"text_25\">\n      <!-- loan_unknown -->\n      <defs>\n       <path d=\"M 9.078125 75.984375 \nL 18.109375 75.984375 \nL 18.109375 31.109375 \nL 44.921875 54.6875 \nL 56.390625 54.6875 \nL 27.390625 29.109375 \nL 57.625 0 \nL 45.90625 0 \nL 18.109375 26.703125 \nL 18.109375 0 \nL 9.078125 0 \nz\n\" id=\"DejaVuSans-107\"/>\n       <path d=\"M 4.203125 54.6875 \nL 13.1875 54.6875 \nL 24.421875 12.015625 \nL 35.59375 54.6875 \nL 46.1875 54.6875 \nL 57.421875 12.015625 \nL 68.609375 54.6875 \nL 77.59375 54.6875 \nL 63.28125 0 \nL 52.6875 0 \nL 40.921875 44.828125 \nL 29.109375 0 \nL 18.5 0 \nz\n\" id=\"DejaVuSans-119\"/>\n      </defs>\n      <g style=\"fill:#444443;\" transform=\"translate(80.0125 325.320687)scale(0.1 -0.1)\">\n       <use xlink:href=\"#DejaVuSans-108\"/>\n       <use x=\"27.783203\" xlink:href=\"#DejaVuSans-111\"/>\n       <use x=\"88.964844\" xlink:href=\"#DejaVuSans-97\"/>\n       <use x=\"150.244141\" xlink:href=\"#DejaVuSans-110\"/>\n       <use x=\"213.623047\" xlink:href=\"#DejaVuSans-95\"/>\n       <use x=\"263.623047\" xlink:href=\"#DejaVuSans-117\"/>\n       <use x=\"327.001953\" xlink:href=\"#DejaVuSans-110\"/>\n       <use x=\"390.380859\" xlink:href=\"#DejaVuSans-107\"/>\n       <use x=\"448.291016\" xlink:href=\"#DejaVuSans-110\"/>\n       <use x=\"511.669922\" xlink:href=\"#DejaVuSans-111\"/>\n       <use x=\"572.851562\" xlink:href=\"#DejaVuSans-119\"/>\n       <use x=\"654.638672\" xlink:href=\"#DejaVuSans-110\"/>\n      </g>\n     </g>\n    </g>\n    <g id=\"ytick_23\">\n     <g id=\"line2d_26\">\n      <g>\n       <use style=\"stroke:#000000;stroke-width:0.8;\" x=\"158.8125\" xlink:href=\"#m8f7422acf6\" y=\"336.444406\"/>\n      </g>\n     </g>\n     <g id=\"text_26\">\n      <!-- job_retired -->\n      <g style=\"fill:#444443;\" transform=\"translate(98.442187 340.243625)scale(0.1 -0.1)\">\n       <use xlink:href=\"#DejaVuSans-106\"/>\n       <use x=\"27.783203\" xlink:href=\"#DejaVuSans-111\"/>\n       <use x=\"88.964844\" xlink:href=\"#DejaVuSans-98\"/>\n       <use x=\"152.441406\" xlink:href=\"#DejaVuSans-95\"/>\n       <use x=\"202.441406\" xlink:href=\"#DejaVuSans-114\"/>\n       <use x=\"241.304688\" xlink:href=\"#DejaVuSans-101\"/>\n       <use x=\"302.828125\" xlink:href=\"#DejaVuSans-116\"/>\n       <use x=\"342.037109\" xlink:href=\"#DejaVuSans-105\"/>\n       <use x=\"369.820312\" xlink:href=\"#DejaVuSans-114\"/>\n       <use x=\"408.683594\" xlink:href=\"#DejaVuSans-101\"/>\n       <use x=\"470.207031\" xlink:href=\"#DejaVuSans-100\"/>\n      </g>\n     </g>\n    </g>\n    <g id=\"ytick_24\">\n     <g id=\"line2d_27\">\n      <g>\n       <use style=\"stroke:#000000;stroke-width:0.8;\" x=\"158.8125\" xlink:href=\"#m8f7422acf6\" y=\"351.367343\"/>\n      </g>\n     </g>\n     <g id=\"text_27\">\n      <!-- marital_married -->\n      <g style=\"fill:#444443;\" transform=\"translate(72.032812 355.166562)scale(0.1 -0.1)\">\n       <use xlink:href=\"#DejaVuSans-109\"/>\n       <use x=\"97.412109\" xlink:href=\"#DejaVuSans-97\"/>\n       <use x=\"158.691406\" xlink:href=\"#DejaVuSans-114\"/>\n       <use x=\"199.804688\" xlink:href=\"#DejaVuSans-105\"/>\n       <use x=\"227.587891\" xlink:href=\"#DejaVuSans-116\"/>\n       <use x=\"266.796875\" xlink:href=\"#DejaVuSans-97\"/>\n       <use x=\"328.076172\" xlink:href=\"#DejaVuSans-108\"/>\n       <use x=\"355.859375\" xlink:href=\"#DejaVuSans-95\"/>\n       <use x=\"405.859375\" xlink:href=\"#DejaVuSans-109\"/>\n       <use x=\"503.271484\" xlink:href=\"#DejaVuSans-97\"/>\n       <use x=\"564.550781\" xlink:href=\"#DejaVuSans-114\"/>\n       <use x=\"603.914062\" xlink:href=\"#DejaVuSans-114\"/>\n       <use x=\"645.027344\" xlink:href=\"#DejaVuSans-105\"/>\n       <use x=\"672.810547\" xlink:href=\"#DejaVuSans-101\"/>\n       <use x=\"734.333984\" xlink:href=\"#DejaVuSans-100\"/>\n      </g>\n     </g>\n    </g>\n    <g id=\"ytick_25\">\n     <g id=\"line2d_28\">\n      <g>\n       <use style=\"stroke:#000000;stroke-width:0.8;\" x=\"158.8125\" xlink:href=\"#m8f7422acf6\" y=\"366.290281\"/>\n      </g>\n     </g>\n     <g id=\"text_28\">\n      <!-- job_unknown -->\n      <g style=\"fill:#444443;\" transform=\"translate(86.129688 370.0895)scale(0.1 -0.1)\">\n       <use xlink:href=\"#DejaVuSans-106\"/>\n       <use x=\"27.783203\" xlink:href=\"#DejaVuSans-111\"/>\n       <use x=\"88.964844\" xlink:href=\"#DejaVuSans-98\"/>\n       <use x=\"152.441406\" xlink:href=\"#DejaVuSans-95\"/>\n       <use x=\"202.441406\" xlink:href=\"#DejaVuSans-117\"/>\n       <use x=\"265.820312\" xlink:href=\"#DejaVuSans-110\"/>\n       <use x=\"329.199219\" xlink:href=\"#DejaVuSans-107\"/>\n       <use x=\"387.109375\" xlink:href=\"#DejaVuSans-110\"/>\n       <use x=\"450.488281\" xlink:href=\"#DejaVuSans-111\"/>\n       <use x=\"511.669922\" xlink:href=\"#DejaVuSans-119\"/>\n       <use x=\"593.457031\" xlink:href=\"#DejaVuSans-110\"/>\n      </g>\n     </g>\n    </g>\n    <g id=\"ytick_26\">\n     <g id=\"line2d_29\">\n      <g>\n       <use style=\"stroke:#000000;stroke-width:0.8;\" x=\"158.8125\" xlink:href=\"#m8f7422acf6\" y=\"381.213218\"/>\n      </g>\n     </g>\n     <g id=\"text_29\">\n      <!-- poutcome_success -->\n      <g style=\"fill:#444443;\" transform=\"translate(57.460938 384.873374)scale(0.1 -0.1)\">\n       <use xlink:href=\"#DejaVuSans-112\"/>\n       <use x=\"63.476562\" xlink:href=\"#DejaVuSans-111\"/>\n       <use x=\"124.658203\" xlink:href=\"#DejaVuSans-117\"/>\n       <use x=\"188.037109\" xlink:href=\"#DejaVuSans-116\"/>\n       <use x=\"227.246094\" xlink:href=\"#DejaVuSans-99\"/>\n       <use x=\"282.226562\" xlink:href=\"#DejaVuSans-111\"/>\n       <use x=\"343.408203\" xlink:href=\"#DejaVuSans-109\"/>\n       <use x=\"440.820312\" xlink:href=\"#DejaVuSans-101\"/>\n       <use x=\"502.34375\" xlink:href=\"#DejaVuSans-95\"/>\n       <use x=\"552.34375\" xlink:href=\"#DejaVuSans-115\"/>\n       <use x=\"604.443359\" xlink:href=\"#DejaVuSans-117\"/>\n       <use x=\"667.822266\" xlink:href=\"#DejaVuSans-99\"/>\n       <use x=\"722.802734\" xlink:href=\"#DejaVuSans-99\"/>\n       <use x=\"777.783203\" xlink:href=\"#DejaVuSans-101\"/>\n       <use x=\"839.306641\" xlink:href=\"#DejaVuSans-115\"/>\n       <use x=\"891.40625\" xlink:href=\"#DejaVuSans-115\"/>\n      </g>\n     </g>\n    </g>\n    <g id=\"ytick_27\">\n     <g id=\"line2d_30\">\n      <g>\n       <use style=\"stroke:#000000;stroke-width:0.8;\" x=\"158.8125\" xlink:href=\"#m8f7422acf6\" y=\"396.136156\"/>\n      </g>\n     </g>\n     <g id=\"text_30\">\n      <!-- job_housemaid -->\n      <g style=\"fill:#444443;\" transform=\"translate(76.415625 399.935374)scale(0.1 -0.1)\">\n       <use xlink:href=\"#DejaVuSans-106\"/>\n       <use x=\"27.783203\" xlink:href=\"#DejaVuSans-111\"/>\n       <use x=\"88.964844\" xlink:href=\"#DejaVuSans-98\"/>\n       <use x=\"152.441406\" xlink:href=\"#DejaVuSans-95\"/>\n       <use x=\"202.441406\" xlink:href=\"#DejaVuSans-104\"/>\n       <use x=\"265.820312\" xlink:href=\"#DejaVuSans-111\"/>\n       <use x=\"327.001953\" xlink:href=\"#DejaVuSans-117\"/>\n       <use x=\"390.380859\" xlink:href=\"#DejaVuSans-115\"/>\n       <use x=\"442.480469\" xlink:href=\"#DejaVuSans-101\"/>\n       <use x=\"504.003906\" xlink:href=\"#DejaVuSans-109\"/>\n       <use x=\"601.416016\" xlink:href=\"#DejaVuSans-97\"/>\n       <use x=\"662.695312\" xlink:href=\"#DejaVuSans-105\"/>\n       <use x=\"690.478516\" xlink:href=\"#DejaVuSans-100\"/>\n      </g>\n     </g>\n    </g>\n    <g id=\"ytick_28\">\n     <g id=\"line2d_31\">\n      <g>\n       <use style=\"stroke:#000000;stroke-width:0.8;\" x=\"158.8125\" xlink:href=\"#m8f7422acf6\" y=\"411.059093\"/>\n      </g>\n     </g>\n     <g id=\"text_31\">\n      <!-- marital_unknown -->\n      <g style=\"fill:#444443;\" transform=\"translate(65.790625 414.858312)scale(0.1 -0.1)\">\n       <use xlink:href=\"#DejaVuSans-109\"/>\n       <use x=\"97.412109\" xlink:href=\"#DejaVuSans-97\"/>\n       <use x=\"158.691406\" xlink:href=\"#DejaVuSans-114\"/>\n       <use x=\"199.804688\" xlink:href=\"#DejaVuSans-105\"/>\n       <use x=\"227.587891\" xlink:href=\"#DejaVuSans-116\"/>\n       <use x=\"266.796875\" xlink:href=\"#DejaVuSans-97\"/>\n       <use x=\"328.076172\" xlink:href=\"#DejaVuSans-108\"/>\n       <use x=\"355.859375\" xlink:href=\"#DejaVuSans-95\"/>\n       <use x=\"405.859375\" xlink:href=\"#DejaVuSans-117\"/>\n       <use x=\"469.238281\" xlink:href=\"#DejaVuSans-110\"/>\n       <use x=\"532.617188\" xlink:href=\"#DejaVuSans-107\"/>\n       <use x=\"590.527344\" xlink:href=\"#DejaVuSans-110\"/>\n       <use x=\"653.90625\" xlink:href=\"#DejaVuSans-111\"/>\n       <use x=\"715.087891\" xlink:href=\"#DejaVuSans-119\"/>\n       <use x=\"796.875\" xlink:href=\"#DejaVuSans-110\"/>\n      </g>\n     </g>\n    </g>\n    <g id=\"ytick_29\">\n     <g id=\"line2d_32\">\n      <g>\n       <use style=\"stroke:#000000;stroke-width:0.8;\" x=\"158.8125\" xlink:href=\"#m8f7422acf6\" y=\"425.98203\"/>\n      </g>\n     </g>\n     <g id=\"text_32\">\n      <!-- housing_unknown -->\n      <g style=\"fill:#444443;\" transform=\"translate(61.907812 429.781249)scale(0.1 -0.1)\">\n       <use xlink:href=\"#DejaVuSans-104\"/>\n       <use x=\"63.378906\" xlink:href=\"#DejaVuSans-111\"/>\n       <use x=\"124.560547\" xlink:href=\"#DejaVuSans-117\"/>\n       <use x=\"187.939453\" xlink:href=\"#DejaVuSans-115\"/>\n       <use x=\"240.039062\" xlink:href=\"#DejaVuSans-105\"/>\n       <use x=\"267.822266\" xlink:href=\"#DejaVuSans-110\"/>\n       <use x=\"331.201172\" xlink:href=\"#DejaVuSans-103\"/>\n       <use x=\"394.677734\" xlink:href=\"#DejaVuSans-95\"/>\n       <use x=\"444.677734\" xlink:href=\"#DejaVuSans-117\"/>\n       <use x=\"508.056641\" xlink:href=\"#DejaVuSans-110\"/>\n       <use x=\"571.435547\" xlink:href=\"#DejaVuSans-107\"/>\n       <use x=\"629.345703\" xlink:href=\"#DejaVuSans-110\"/>\n       <use x=\"692.724609\" xlink:href=\"#DejaVuSans-111\"/>\n       <use x=\"753.90625\" xlink:href=\"#DejaVuSans-119\"/>\n       <use x=\"835.693359\" xlink:href=\"#DejaVuSans-110\"/>\n      </g>\n     </g>\n    </g>\n    <g id=\"ytick_30\">\n     <g id=\"line2d_33\">\n      <g>\n       <use style=\"stroke:#000000;stroke-width:0.8;\" x=\"158.8125\" xlink:href=\"#m8f7422acf6\" y=\"440.904968\"/>\n      </g>\n     </g>\n     <g id=\"text_33\">\n      <!-- job_entrepreneur -->\n      <g style=\"fill:#444443;\" transform=\"translate(65.790625 444.704186)scale(0.1 -0.1)\">\n       <use xlink:href=\"#DejaVuSans-106\"/>\n       <use x=\"27.783203\" xlink:href=\"#DejaVuSans-111\"/>\n       <use x=\"88.964844\" xlink:href=\"#DejaVuSans-98\"/>\n       <use x=\"152.441406\" xlink:href=\"#DejaVuSans-95\"/>\n       <use x=\"202.441406\" xlink:href=\"#DejaVuSans-101\"/>\n       <use x=\"263.964844\" xlink:href=\"#DejaVuSans-110\"/>\n       <use x=\"327.34375\" xlink:href=\"#DejaVuSans-116\"/>\n       <use x=\"366.552734\" xlink:href=\"#DejaVuSans-114\"/>\n       <use x=\"405.416016\" xlink:href=\"#DejaVuSans-101\"/>\n       <use x=\"466.939453\" xlink:href=\"#DejaVuSans-112\"/>\n       <use x=\"530.416016\" xlink:href=\"#DejaVuSans-114\"/>\n       <use x=\"569.279297\" xlink:href=\"#DejaVuSans-101\"/>\n       <use x=\"630.802734\" xlink:href=\"#DejaVuSans-110\"/>\n       <use x=\"694.181641\" xlink:href=\"#DejaVuSans-101\"/>\n       <use x=\"755.705078\" xlink:href=\"#DejaVuSans-117\"/>\n       <use x=\"819.083984\" xlink:href=\"#DejaVuSans-114\"/>\n      </g>\n     </g>\n    </g>\n    <g id=\"ytick_31\">\n     <g id=\"line2d_34\">\n      <g>\n       <use style=\"stroke:#000000;stroke-width:0.8;\" x=\"158.8125\" xlink:href=\"#m8f7422acf6\" y=\"455.827905\"/>\n      </g>\n     </g>\n     <g id=\"text_34\">\n      <!-- contact_telephone -->\n      <g style=\"fill:#444443;\" transform=\"translate(59.090625 459.627124)scale(0.1 -0.1)\">\n       <use xlink:href=\"#DejaVuSans-99\"/>\n       <use x=\"54.980469\" xlink:href=\"#DejaVuSans-111\"/>\n       <use x=\"116.162109\" xlink:href=\"#DejaVuSans-110\"/>\n       <use x=\"179.541016\" xlink:href=\"#DejaVuSans-116\"/>\n       <use x=\"218.75\" xlink:href=\"#DejaVuSans-97\"/>\n       <use x=\"280.029297\" xlink:href=\"#DejaVuSans-99\"/>\n       <use x=\"335.009766\" xlink:href=\"#DejaVuSans-116\"/>\n       <use x=\"374.21875\" xlink:href=\"#DejaVuSans-95\"/>\n       <use x=\"424.21875\" xlink:href=\"#DejaVuSans-116\"/>\n       <use x=\"463.427734\" xlink:href=\"#DejaVuSans-101\"/>\n       <use x=\"524.951172\" xlink:href=\"#DejaVuSans-108\"/>\n       <use x=\"552.734375\" xlink:href=\"#DejaVuSans-101\"/>\n       <use x=\"614.257812\" xlink:href=\"#DejaVuSans-112\"/>\n       <use x=\"677.734375\" xlink:href=\"#DejaVuSans-104\"/>\n       <use x=\"741.113281\" xlink:href=\"#DejaVuSans-111\"/>\n       <use x=\"802.294922\" xlink:href=\"#DejaVuSans-110\"/>\n       <use x=\"865.673828\" xlink:href=\"#DejaVuSans-101\"/>\n      </g>\n     </g>\n    </g>\n    <g id=\"ytick_32\">\n     <g id=\"line2d_35\">\n      <g>\n       <use style=\"stroke:#000000;stroke-width:0.8;\" x=\"158.8125\" xlink:href=\"#m8f7422acf6\" y=\"470.750842\"/>\n      </g>\n     </g>\n     <g id=\"text_35\">\n      <!-- previous_1 -->\n      <g style=\"fill:#444443;\" transform=\"translate(97.7 474.550061)scale(0.1 -0.1)\">\n       <use xlink:href=\"#DejaVuSans-112\"/>\n       <use x=\"63.476562\" xlink:href=\"#DejaVuSans-114\"/>\n       <use x=\"102.339844\" xlink:href=\"#DejaVuSans-101\"/>\n       <use x=\"163.863281\" xlink:href=\"#DejaVuSans-118\"/>\n       <use x=\"223.042969\" xlink:href=\"#DejaVuSans-105\"/>\n       <use x=\"250.826172\" xlink:href=\"#DejaVuSans-111\"/>\n       <use x=\"312.007812\" xlink:href=\"#DejaVuSans-117\"/>\n       <use x=\"375.386719\" xlink:href=\"#DejaVuSans-115\"/>\n       <use x=\"427.486328\" xlink:href=\"#DejaVuSans-95\"/>\n       <use x=\"477.486328\" xlink:href=\"#DejaVuSans-49\"/>\n      </g>\n     </g>\n    </g>\n    <g id=\"ytick_33\">\n     <g id=\"line2d_36\">\n      <g>\n       <use style=\"stroke:#000000;stroke-width:0.8;\" x=\"158.8125\" xlink:href=\"#m8f7422acf6\" y=\"485.67378\"/>\n      </g>\n     </g>\n     <g id=\"text_36\">\n      <!-- previous_3 -->\n      <g style=\"fill:#444443;\" transform=\"translate(97.7 489.472998)scale(0.1 -0.1)\">\n       <use xlink:href=\"#DejaVuSans-112\"/>\n       <use x=\"63.476562\" xlink:href=\"#DejaVuSans-114\"/>\n       <use x=\"102.339844\" xlink:href=\"#DejaVuSans-101\"/>\n       <use x=\"163.863281\" xlink:href=\"#DejaVuSans-118\"/>\n       <use x=\"223.042969\" xlink:href=\"#DejaVuSans-105\"/>\n       <use x=\"250.826172\" xlink:href=\"#DejaVuSans-111\"/>\n       <use x=\"312.007812\" xlink:href=\"#DejaVuSans-117\"/>\n       <use x=\"375.386719\" xlink:href=\"#DejaVuSans-115\"/>\n       <use x=\"427.486328\" xlink:href=\"#DejaVuSans-95\"/>\n       <use x=\"477.486328\" xlink:href=\"#DejaVuSans-51\"/>\n      </g>\n     </g>\n    </g>\n    <g id=\"ytick_34\">\n     <g id=\"line2d_37\">\n      <g>\n       <use style=\"stroke:#000000;stroke-width:0.8;\" x=\"158.8125\" xlink:href=\"#m8f7422acf6\" y=\"500.596717\"/>\n      </g>\n     </g>\n     <g id=\"text_37\">\n      <!-- education_illiterate -->\n      <g style=\"fill:#444443;\" transform=\"translate(55.69375 504.395936)scale(0.1 -0.1)\">\n       <use xlink:href=\"#DejaVuSans-101\"/>\n       <use x=\"61.523438\" xlink:href=\"#DejaVuSans-100\"/>\n       <use x=\"125\" xlink:href=\"#DejaVuSans-117\"/>\n       <use x=\"188.378906\" xlink:href=\"#DejaVuSans-99\"/>\n       <use x=\"243.359375\" xlink:href=\"#DejaVuSans-97\"/>\n       <use x=\"304.638672\" xlink:href=\"#DejaVuSans-116\"/>\n       <use x=\"343.847656\" xlink:href=\"#DejaVuSans-105\"/>\n       <use x=\"371.630859\" xlink:href=\"#DejaVuSans-111\"/>\n       <use x=\"432.8125\" xlink:href=\"#DejaVuSans-110\"/>\n       <use x=\"496.191406\" xlink:href=\"#DejaVuSans-95\"/>\n       <use x=\"546.191406\" xlink:href=\"#DejaVuSans-105\"/>\n       <use x=\"573.974609\" xlink:href=\"#DejaVuSans-108\"/>\n       <use x=\"601.757812\" xlink:href=\"#DejaVuSans-108\"/>\n       <use x=\"629.541016\" xlink:href=\"#DejaVuSans-105\"/>\n       <use x=\"657.324219\" xlink:href=\"#DejaVuSans-116\"/>\n       <use x=\"696.533203\" xlink:href=\"#DejaVuSans-101\"/>\n       <use x=\"758.056641\" xlink:href=\"#DejaVuSans-114\"/>\n       <use x=\"799.169922\" xlink:href=\"#DejaVuSans-97\"/>\n       <use x=\"860.449219\" xlink:href=\"#DejaVuSans-116\"/>\n       <use x=\"899.658203\" xlink:href=\"#DejaVuSans-101\"/>\n      </g>\n     </g>\n    </g>\n    <g id=\"ytick_35\">\n     <g id=\"line2d_38\">\n      <g>\n       <use style=\"stroke:#000000;stroke-width:0.8;\" x=\"158.8125\" xlink:href=\"#m8f7422acf6\" y=\"515.519654\"/>\n      </g>\n     </g>\n     <g id=\"text_38\">\n      <!-- previous_5 -->\n      <g style=\"fill:#444443;\" transform=\"translate(97.7 519.318873)scale(0.1 -0.1)\">\n       <use xlink:href=\"#DejaVuSans-112\"/>\n       <use x=\"63.476562\" xlink:href=\"#DejaVuSans-114\"/>\n       <use x=\"102.339844\" xlink:href=\"#DejaVuSans-101\"/>\n       <use x=\"163.863281\" xlink:href=\"#DejaVuSans-118\"/>\n       <use x=\"223.042969\" xlink:href=\"#DejaVuSans-105\"/>\n       <use x=\"250.826172\" xlink:href=\"#DejaVuSans-111\"/>\n       <use x=\"312.007812\" xlink:href=\"#DejaVuSans-117\"/>\n       <use x=\"375.386719\" xlink:href=\"#DejaVuSans-115\"/>\n       <use x=\"427.486328\" xlink:href=\"#DejaVuSans-95\"/>\n       <use x=\"477.486328\" xlink:href=\"#DejaVuSans-53\"/>\n      </g>\n     </g>\n    </g>\n    <g id=\"ytick_36\">\n     <g id=\"line2d_39\">\n      <g>\n       <use style=\"stroke:#000000;stroke-width:0.8;\" x=\"158.8125\" xlink:href=\"#m8f7422acf6\" y=\"530.442592\"/>\n      </g>\n     </g>\n     <g id=\"text_39\">\n      <!-- previous_6 -->\n      <g style=\"fill:#444443;\" transform=\"translate(97.7 534.241811)scale(0.1 -0.1)\">\n       <use xlink:href=\"#DejaVuSans-112\"/>\n       <use x=\"63.476562\" xlink:href=\"#DejaVuSans-114\"/>\n       <use x=\"102.339844\" xlink:href=\"#DejaVuSans-101\"/>\n       <use x=\"163.863281\" xlink:href=\"#DejaVuSans-118\"/>\n       <use x=\"223.042969\" xlink:href=\"#DejaVuSans-105\"/>\n       <use x=\"250.826172\" xlink:href=\"#DejaVuSans-111\"/>\n       <use x=\"312.007812\" xlink:href=\"#DejaVuSans-117\"/>\n       <use x=\"375.386719\" xlink:href=\"#DejaVuSans-115\"/>\n       <use x=\"427.486328\" xlink:href=\"#DejaVuSans-95\"/>\n       <use x=\"477.486328\" xlink:href=\"#DejaVuSans-54\"/>\n      </g>\n     </g>\n    </g>\n    <g id=\"ytick_37\">\n     <g id=\"line2d_40\">\n      <g>\n       <use style=\"stroke:#000000;stroke-width:0.8;\" x=\"158.8125\" xlink:href=\"#m8f7422acf6\" y=\"545.365529\"/>\n      </g>\n     </g>\n     <g id=\"text_40\">\n      <!-- previous_7 -->\n      <defs>\n       <path d=\"M 8.203125 72.90625 \nL 55.078125 72.90625 \nL 55.078125 68.703125 \nL 28.609375 0 \nL 18.3125 0 \nL 43.21875 64.59375 \nL 8.203125 64.59375 \nz\n\" id=\"DejaVuSans-55\"/>\n      </defs>\n      <g style=\"fill:#444443;\" transform=\"translate(97.7 549.164748)scale(0.1 -0.1)\">\n       <use xlink:href=\"#DejaVuSans-112\"/>\n       <use x=\"63.476562\" xlink:href=\"#DejaVuSans-114\"/>\n       <use x=\"102.339844\" xlink:href=\"#DejaVuSans-101\"/>\n       <use x=\"163.863281\" xlink:href=\"#DejaVuSans-118\"/>\n       <use x=\"223.042969\" xlink:href=\"#DejaVuSans-105\"/>\n       <use x=\"250.826172\" xlink:href=\"#DejaVuSans-111\"/>\n       <use x=\"312.007812\" xlink:href=\"#DejaVuSans-117\"/>\n       <use x=\"375.386719\" xlink:href=\"#DejaVuSans-115\"/>\n       <use x=\"427.486328\" xlink:href=\"#DejaVuSans-95\"/>\n       <use x=\"477.486328\" xlink:href=\"#DejaVuSans-55\"/>\n      </g>\n     </g>\n    </g>\n    <g id=\"ytick_38\">\n     <g id=\"line2d_41\">\n      <g>\n       <use style=\"stroke:#000000;stroke-width:0.8;\" x=\"158.8125\" xlink:href=\"#m8f7422acf6\" y=\"560.288467\"/>\n      </g>\n     </g>\n     <g id=\"text_41\">\n      <!-- job_unemployed -->\n      <g style=\"fill:#444443;\" transform=\"translate(69.332812 564.087685)scale(0.1 -0.1)\">\n       <use xlink:href=\"#DejaVuSans-106\"/>\n       <use x=\"27.783203\" xlink:href=\"#DejaVuSans-111\"/>\n       <use x=\"88.964844\" xlink:href=\"#DejaVuSans-98\"/>\n       <use x=\"152.441406\" xlink:href=\"#DejaVuSans-95\"/>\n       <use x=\"202.441406\" xlink:href=\"#DejaVuSans-117\"/>\n       <use x=\"265.820312\" xlink:href=\"#DejaVuSans-110\"/>\n       <use x=\"329.199219\" xlink:href=\"#DejaVuSans-101\"/>\n       <use x=\"390.722656\" xlink:href=\"#DejaVuSans-109\"/>\n       <use x=\"488.134766\" xlink:href=\"#DejaVuSans-112\"/>\n       <use x=\"551.611328\" xlink:href=\"#DejaVuSans-108\"/>\n       <use x=\"579.394531\" xlink:href=\"#DejaVuSans-111\"/>\n       <use x=\"640.576172\" xlink:href=\"#DejaVuSans-121\"/>\n       <use x=\"699.755859\" xlink:href=\"#DejaVuSans-101\"/>\n       <use x=\"761.279297\" xlink:href=\"#DejaVuSans-100\"/>\n      </g>\n     </g>\n    </g>\n    <g id=\"ytick_39\">\n     <g id=\"line2d_42\">\n      <g>\n       <use style=\"stroke:#000000;stroke-width:0.8;\" x=\"158.8125\" xlink:href=\"#m8f7422acf6\" y=\"575.211404\"/>\n      </g>\n     </g>\n     <g id=\"text_42\">\n      <!-- previous_4 -->\n      <g style=\"fill:#444443;\" transform=\"translate(97.7 579.010623)scale(0.1 -0.1)\">\n       <use xlink:href=\"#DejaVuSans-112\"/>\n       <use x=\"63.476562\" xlink:href=\"#DejaVuSans-114\"/>\n       <use x=\"102.339844\" xlink:href=\"#DejaVuSans-101\"/>\n       <use x=\"163.863281\" xlink:href=\"#DejaVuSans-118\"/>\n       <use x=\"223.042969\" xlink:href=\"#DejaVuSans-105\"/>\n       <use x=\"250.826172\" xlink:href=\"#DejaVuSans-111\"/>\n       <use x=\"312.007812\" xlink:href=\"#DejaVuSans-117\"/>\n       <use x=\"375.386719\" xlink:href=\"#DejaVuSans-115\"/>\n       <use x=\"427.486328\" xlink:href=\"#DejaVuSans-95\"/>\n       <use x=\"477.486328\" xlink:href=\"#DejaVuSans-52\"/>\n      </g>\n     </g>\n    </g>\n    <g id=\"ytick_40\">\n     <g id=\"line2d_43\">\n      <g>\n       <use style=\"stroke:#000000;stroke-width:0.8;\" x=\"158.8125\" xlink:href=\"#m8f7422acf6\" y=\"590.134341\"/>\n      </g>\n     </g>\n     <g id=\"text_43\">\n      <!-- previous_2 -->\n      <defs>\n       <path d=\"M 19.1875 8.296875 \nL 53.609375 8.296875 \nL 53.609375 0 \nL 7.328125 0 \nL 7.328125 8.296875 \nQ 12.9375 14.109375 22.625 23.890625 \nQ 32.328125 33.6875 34.8125 36.53125 \nQ 39.546875 41.84375 41.421875 45.53125 \nQ 43.3125 49.21875 43.3125 52.78125 \nQ 43.3125 58.59375 39.234375 62.25 \nQ 35.15625 65.921875 28.609375 65.921875 \nQ 23.96875 65.921875 18.8125 64.3125 \nQ 13.671875 62.703125 7.8125 59.421875 \nL 7.8125 69.390625 \nQ 13.765625 71.78125 18.9375 73 \nQ 24.125 74.21875 28.421875 74.21875 \nQ 39.75 74.21875 46.484375 68.546875 \nQ 53.21875 62.890625 53.21875 53.421875 \nQ 53.21875 48.921875 51.53125 44.890625 \nQ 49.859375 40.875 45.40625 35.40625 \nQ 44.1875 33.984375 37.640625 27.21875 \nQ 31.109375 20.453125 19.1875 8.296875 \nz\n\" id=\"DejaVuSans-50\"/>\n      </defs>\n      <g style=\"fill:#444443;\" transform=\"translate(97.7 593.93356)scale(0.1 -0.1)\">\n       <use xlink:href=\"#DejaVuSans-112\"/>\n       <use x=\"63.476562\" xlink:href=\"#DejaVuSans-114\"/>\n       <use x=\"102.339844\" xlink:href=\"#DejaVuSans-101\"/>\n       <use x=\"163.863281\" xlink:href=\"#DejaVuSans-118\"/>\n       <use x=\"223.042969\" xlink:href=\"#DejaVuSans-105\"/>\n       <use x=\"250.826172\" xlink:href=\"#DejaVuSans-111\"/>\n       <use x=\"312.007812\" xlink:href=\"#DejaVuSans-117\"/>\n       <use x=\"375.386719\" xlink:href=\"#DejaVuSans-115\"/>\n       <use x=\"427.486328\" xlink:href=\"#DejaVuSans-95\"/>\n       <use x=\"477.486328\" xlink:href=\"#DejaVuSans-50\"/>\n      </g>\n     </g>\n    </g>\n    <g id=\"ytick_41\">\n     <g id=\"line2d_44\">\n      <g>\n       <use style=\"stroke:#000000;stroke-width:0.8;\" x=\"158.8125\" xlink:href=\"#m8f7422acf6\" y=\"605.057279\"/>\n      </g>\n     </g>\n     <g id=\"text_44\">\n      <!-- education_unknown -->\n      <g style=\"fill:#444443;\" transform=\"translate(51.754687 608.856497)scale(0.1 -0.1)\">\n       <use xlink:href=\"#DejaVuSans-101\"/>\n       <use x=\"61.523438\" xlink:href=\"#DejaVuSans-100\"/>\n       <use x=\"125\" xlink:href=\"#DejaVuSans-117\"/>\n       <use x=\"188.378906\" xlink:href=\"#DejaVuSans-99\"/>\n       <use x=\"243.359375\" xlink:href=\"#DejaVuSans-97\"/>\n       <use x=\"304.638672\" xlink:href=\"#DejaVuSans-116\"/>\n       <use x=\"343.847656\" xlink:href=\"#DejaVuSans-105\"/>\n       <use x=\"371.630859\" xlink:href=\"#DejaVuSans-111\"/>\n       <use x=\"432.8125\" xlink:href=\"#DejaVuSans-110\"/>\n       <use x=\"496.191406\" xlink:href=\"#DejaVuSans-95\"/>\n       <use x=\"546.191406\" xlink:href=\"#DejaVuSans-117\"/>\n       <use x=\"609.570312\" xlink:href=\"#DejaVuSans-110\"/>\n       <use x=\"672.949219\" xlink:href=\"#DejaVuSans-107\"/>\n       <use x=\"730.859375\" xlink:href=\"#DejaVuSans-110\"/>\n       <use x=\"794.238281\" xlink:href=\"#DejaVuSans-111\"/>\n       <use x=\"855.419922\" xlink:href=\"#DejaVuSans-119\"/>\n       <use x=\"937.207031\" xlink:href=\"#DejaVuSans-110\"/>\n      </g>\n     </g>\n    </g>\n    <g id=\"ytick_42\">\n     <g id=\"line2d_45\">\n      <g>\n       <use style=\"stroke:#000000;stroke-width:0.8;\" x=\"158.8125\" xlink:href=\"#m8f7422acf6\" y=\"619.980216\"/>\n      </g>\n     </g>\n     <g id=\"text_45\">\n      <!-- education_high.school -->\n      <g style=\"fill:#444443;\" transform=\"translate(40.151562 623.779435)scale(0.1 -0.1)\">\n       <use xlink:href=\"#DejaVuSans-101\"/>\n       <use x=\"61.523438\" xlink:href=\"#DejaVuSans-100\"/>\n       <use x=\"125\" xlink:href=\"#DejaVuSans-117\"/>\n       <use x=\"188.378906\" xlink:href=\"#DejaVuSans-99\"/>\n       <use x=\"243.359375\" xlink:href=\"#DejaVuSans-97\"/>\n       <use x=\"304.638672\" xlink:href=\"#DejaVuSans-116\"/>\n       <use x=\"343.847656\" xlink:href=\"#DejaVuSans-105\"/>\n       <use x=\"371.630859\" xlink:href=\"#DejaVuSans-111\"/>\n       <use x=\"432.8125\" xlink:href=\"#DejaVuSans-110\"/>\n       <use x=\"496.191406\" xlink:href=\"#DejaVuSans-95\"/>\n       <use x=\"546.191406\" xlink:href=\"#DejaVuSans-104\"/>\n       <use x=\"609.570312\" xlink:href=\"#DejaVuSans-105\"/>\n       <use x=\"637.353516\" xlink:href=\"#DejaVuSans-103\"/>\n       <use x=\"700.830078\" xlink:href=\"#DejaVuSans-104\"/>\n       <use x=\"764.208984\" xlink:href=\"#DejaVuSans-46\"/>\n       <use x=\"795.996094\" xlink:href=\"#DejaVuSans-115\"/>\n       <use x=\"848.095703\" xlink:href=\"#DejaVuSans-99\"/>\n       <use x=\"903.076172\" xlink:href=\"#DejaVuSans-104\"/>\n       <use x=\"966.455078\" xlink:href=\"#DejaVuSans-111\"/>\n       <use x=\"1027.636719\" xlink:href=\"#DejaVuSans-111\"/>\n       <use x=\"1088.818359\" xlink:href=\"#DejaVuSans-108\"/>\n      </g>\n     </g>\n    </g>\n   </g>\n   <g id=\"patch_45\">\n    <path d=\"M 158.8125 628.12 \nL 158.8125 0 \n\" style=\"fill:none;stroke:#000000;stroke-linecap:square;stroke-linejoin:miter;stroke-width:0.3;\"/>\n   </g>\n   <g id=\"patch_46\">\n    <path d=\"M 255.2125 628.12 \nL 255.2125 0 \n\" style=\"fill:none;stroke:#000000;stroke-linecap:square;stroke-linejoin:miter;stroke-width:0.3;\"/>\n   </g>\n   <g id=\"patch_47\">\n    <path d=\"M 158.8125 628.12 \nL 255.2125 628.12 \n\" style=\"fill:none;stroke:#000000;stroke-linecap:square;stroke-linejoin:miter;stroke-width:0.3;\"/>\n   </g>\n   <g id=\"patch_48\">\n    <path d=\"M 158.8125 0 \nL 255.2125 0 \n\" style=\"fill:none;stroke:#000000;stroke-linecap:square;stroke-linejoin:miter;stroke-width:0.3;\"/>\n   </g>\n  </g>\n </g>\n <defs>\n  <clipPath id=\"pcd63a25d16\">\n   <rect height=\"628.12\" width=\"96.4\" x=\"158.8125\" y=\"0\"/>\n  </clipPath>\n </defs>\n</svg>\n"
          },
          "metadata": {
            "tags": []
          },
          "execution_count": 112
        }
      ]
    }
  ]
}